{
 "cells": [
  {
   "cell_type": "markdown",
   "metadata": {},
   "source": [
    "# SF Crime Analysis"
   ]
  },
  {
   "cell_type": "code",
   "execution_count": 2,
   "metadata": {},
   "outputs": [],
   "source": [
    "#load libraries\n",
    "\n",
    "import numpy as np\n",
    "import pandas as pd\n",
    "import seaborn as sns\n",
    "import matplotlib.pyplot as plt\n",
    "import seaborn as sns; sns.set()\n",
    "from statsmodels.tsa.statespace.sarimax import SARIMAX\n",
    "from statsmodels.tsa.seasonal import seasonal_decompose\n",
    "# Preprocessing\n",
    "from sklearn.model_selection import train_test_split\n",
    "from sklearn.preprocessing import LabelEncoder, StandardScaler, OneHotEncoder\n"
   ]
  },
  {
   "cell_type": "code",
   "execution_count": 579,
   "metadata": {},
   "outputs": [],
   "source": [
    "#read dataset\n",
    "df = pd.read_csv('police-department-incidents.csv')\n",
    "test = pd.read_csv('police-department-incidents.csv')\n"
   ]
  },
  {
   "cell_type": "markdown",
   "metadata": {},
   "source": [
    "## EDA"
   ]
  },
  {
   "cell_type": "code",
   "execution_count": 211,
   "metadata": {},
   "outputs": [
    {
     "data": {
      "text/plain": [
       "(2215024, 13)"
      ]
     },
     "execution_count": 211,
     "metadata": {},
     "output_type": "execute_result"
    }
   ],
   "source": [
    "df.shape"
   ]
  },
  {
   "cell_type": "code",
   "execution_count": 5,
   "metadata": {},
   "outputs": [
    {
     "data": {
      "text/html": [
       "<div>\n",
       "<style scoped>\n",
       "    .dataframe tbody tr th:only-of-type {\n",
       "        vertical-align: middle;\n",
       "    }\n",
       "\n",
       "    .dataframe tbody tr th {\n",
       "        vertical-align: top;\n",
       "    }\n",
       "\n",
       "    .dataframe thead th {\n",
       "        text-align: right;\n",
       "    }\n",
       "</style>\n",
       "<table border=\"1\" class=\"dataframe\">\n",
       "  <thead>\n",
       "    <tr style=\"text-align: right;\">\n",
       "      <th></th>\n",
       "      <th>IncidntNum</th>\n",
       "      <th>Category</th>\n",
       "      <th>Descript</th>\n",
       "      <th>DayOfWeek</th>\n",
       "      <th>Date</th>\n",
       "      <th>Time</th>\n",
       "      <th>PdDistrict</th>\n",
       "      <th>Resolution</th>\n",
       "      <th>Address</th>\n",
       "      <th>X</th>\n",
       "      <th>Y</th>\n",
       "      <th>Location</th>\n",
       "      <th>PdId</th>\n",
       "    </tr>\n",
       "  </thead>\n",
       "  <tbody>\n",
       "    <tr>\n",
       "      <th>0</th>\n",
       "      <td>180362289</td>\n",
       "      <td>VEHICLE THEFT</td>\n",
       "      <td>STOLEN MOTORCYCLE</td>\n",
       "      <td>Tuesday</td>\n",
       "      <td>2018-05-15T00:00:00.000</td>\n",
       "      <td>10:30</td>\n",
       "      <td>SOUTHERN</td>\n",
       "      <td>NONE</td>\n",
       "      <td>700 Block of TEHAMA ST</td>\n",
       "      <td>-122.411912</td>\n",
       "      <td>37.775207</td>\n",
       "      <td>{'type': 'Point', 'coordinates': [-122.4119120...</td>\n",
       "      <td>18036228907023</td>\n",
       "    </tr>\n",
       "    <tr>\n",
       "      <th>1</th>\n",
       "      <td>180360948</td>\n",
       "      <td>NON-CRIMINAL</td>\n",
       "      <td>AIDED CASE, MENTAL DISTURBED</td>\n",
       "      <td>Tuesday</td>\n",
       "      <td>2018-05-15T00:00:00.000</td>\n",
       "      <td>04:14</td>\n",
       "      <td>SOUTHERN</td>\n",
       "      <td>NONE</td>\n",
       "      <td>MARKET ST / SOUTH VAN NESS AV</td>\n",
       "      <td>-122.419258</td>\n",
       "      <td>37.775146</td>\n",
       "      <td>{'type': 'Point', 'coordinates': [-122.4192578...</td>\n",
       "      <td>18036094864020</td>\n",
       "    </tr>\n",
       "    <tr>\n",
       "      <th>2</th>\n",
       "      <td>180360879</td>\n",
       "      <td>OTHER OFFENSES</td>\n",
       "      <td>PAROLE VIOLATION</td>\n",
       "      <td>Tuesday</td>\n",
       "      <td>2018-05-15T00:00:00.000</td>\n",
       "      <td>02:01</td>\n",
       "      <td>MISSION</td>\n",
       "      <td>ARREST, BOOKED</td>\n",
       "      <td>CAPP ST / 21ST ST</td>\n",
       "      <td>-122.417813</td>\n",
       "      <td>37.757101</td>\n",
       "      <td>{'type': 'Point', 'coordinates': [-122.4178125...</td>\n",
       "      <td>18036087926150</td>\n",
       "    </tr>\n",
       "    <tr>\n",
       "      <th>3</th>\n",
       "      <td>180360879</td>\n",
       "      <td>OTHER OFFENSES</td>\n",
       "      <td>TRAFFIC VIOLATION ARREST</td>\n",
       "      <td>Tuesday</td>\n",
       "      <td>2018-05-15T00:00:00.000</td>\n",
       "      <td>02:01</td>\n",
       "      <td>MISSION</td>\n",
       "      <td>ARREST, BOOKED</td>\n",
       "      <td>CAPP ST / 21ST ST</td>\n",
       "      <td>-122.417813</td>\n",
       "      <td>37.757101</td>\n",
       "      <td>{'type': 'Point', 'coordinates': [-122.4178125...</td>\n",
       "      <td>18036087965010</td>\n",
       "    </tr>\n",
       "    <tr>\n",
       "      <th>4</th>\n",
       "      <td>180360879</td>\n",
       "      <td>OTHER OFFENSES</td>\n",
       "      <td>TRAFFIC VIOLATION</td>\n",
       "      <td>Tuesday</td>\n",
       "      <td>2018-05-15T00:00:00.000</td>\n",
       "      <td>02:01</td>\n",
       "      <td>MISSION</td>\n",
       "      <td>ARREST, BOOKED</td>\n",
       "      <td>CAPP ST / 21ST ST</td>\n",
       "      <td>-122.417813</td>\n",
       "      <td>37.757101</td>\n",
       "      <td>{'type': 'Point', 'coordinates': [-122.4178125...</td>\n",
       "      <td>18036087965015</td>\n",
       "    </tr>\n",
       "  </tbody>\n",
       "</table>\n",
       "</div>"
      ],
      "text/plain": [
       "   IncidntNum        Category                      Descript DayOfWeek  \\\n",
       "0   180362289   VEHICLE THEFT             STOLEN MOTORCYCLE   Tuesday   \n",
       "1   180360948    NON-CRIMINAL  AIDED CASE, MENTAL DISTURBED   Tuesday   \n",
       "2   180360879  OTHER OFFENSES              PAROLE VIOLATION   Tuesday   \n",
       "3   180360879  OTHER OFFENSES      TRAFFIC VIOLATION ARREST   Tuesday   \n",
       "4   180360879  OTHER OFFENSES             TRAFFIC VIOLATION   Tuesday   \n",
       "\n",
       "                      Date   Time PdDistrict      Resolution  \\\n",
       "0  2018-05-15T00:00:00.000  10:30   SOUTHERN            NONE   \n",
       "1  2018-05-15T00:00:00.000  04:14   SOUTHERN            NONE   \n",
       "2  2018-05-15T00:00:00.000  02:01    MISSION  ARREST, BOOKED   \n",
       "3  2018-05-15T00:00:00.000  02:01    MISSION  ARREST, BOOKED   \n",
       "4  2018-05-15T00:00:00.000  02:01    MISSION  ARREST, BOOKED   \n",
       "\n",
       "                         Address           X          Y  \\\n",
       "0         700 Block of TEHAMA ST -122.411912  37.775207   \n",
       "1  MARKET ST / SOUTH VAN NESS AV -122.419258  37.775146   \n",
       "2              CAPP ST / 21ST ST -122.417813  37.757101   \n",
       "3              CAPP ST / 21ST ST -122.417813  37.757101   \n",
       "4              CAPP ST / 21ST ST -122.417813  37.757101   \n",
       "\n",
       "                                            Location            PdId  \n",
       "0  {'type': 'Point', 'coordinates': [-122.4119120...  18036228907023  \n",
       "1  {'type': 'Point', 'coordinates': [-122.4192578...  18036094864020  \n",
       "2  {'type': 'Point', 'coordinates': [-122.4178125...  18036087926150  \n",
       "3  {'type': 'Point', 'coordinates': [-122.4178125...  18036087965010  \n",
       "4  {'type': 'Point', 'coordinates': [-122.4178125...  18036087965015  "
      ]
     },
     "execution_count": 5,
     "metadata": {},
     "output_type": "execute_result"
    }
   ],
   "source": [
    "df.head()"
   ]
  },
  {
   "cell_type": "code",
   "execution_count": 37,
   "metadata": {},
   "outputs": [
    {
     "data": {
      "text/plain": [
       "'2018-05-15T00:00:00.000'"
      ]
     },
     "execution_count": 37,
     "metadata": {},
     "output_type": "execute_result"
    }
   ],
   "source": [
    "#check time range of this dataset\n",
    "min(df.Date)\n",
    "max(df.Date)\n",
    "\n",
    "#df.Date.max() also works"
   ]
  },
  {
   "cell_type": "markdown",
   "metadata": {},
   "source": [
    "Data is available from 2003 to 2018"
   ]
  },
  {
   "cell_type": "code",
   "execution_count": 13,
   "metadata": {},
   "outputs": [
    {
     "data": {
      "text/html": [
       "<div>\n",
       "<style scoped>\n",
       "    .dataframe tbody tr th:only-of-type {\n",
       "        vertical-align: middle;\n",
       "    }\n",
       "\n",
       "    .dataframe tbody tr th {\n",
       "        vertical-align: top;\n",
       "    }\n",
       "\n",
       "    .dataframe thead th {\n",
       "        text-align: right;\n",
       "    }\n",
       "</style>\n",
       "<table border=\"1\" class=\"dataframe\">\n",
       "  <thead>\n",
       "    <tr style=\"text-align: right;\">\n",
       "      <th></th>\n",
       "      <th>IncidntNum</th>\n",
       "      <th>X</th>\n",
       "      <th>Y</th>\n",
       "      <th>PdId</th>\n",
       "    </tr>\n",
       "  </thead>\n",
       "  <tbody>\n",
       "    <tr>\n",
       "      <th>count</th>\n",
       "      <td>2.215024e+06</td>\n",
       "      <td>2.215024e+06</td>\n",
       "      <td>2.215024e+06</td>\n",
       "      <td>2.215024e+06</td>\n",
       "    </tr>\n",
       "    <tr>\n",
       "      <th>mean</th>\n",
       "      <td>1.040728e+08</td>\n",
       "      <td>-1.224229e+02</td>\n",
       "      <td>3.777076e+01</td>\n",
       "      <td>1.040728e+13</td>\n",
       "    </tr>\n",
       "    <tr>\n",
       "      <th>std</th>\n",
       "      <td>4.612827e+07</td>\n",
       "      <td>2.983459e-02</td>\n",
       "      <td>4.203596e-01</td>\n",
       "      <td>4.612827e+12</td>\n",
       "    </tr>\n",
       "    <tr>\n",
       "      <th>min</th>\n",
       "      <td>3.979000e+03</td>\n",
       "      <td>-1.225136e+02</td>\n",
       "      <td>3.770788e+01</td>\n",
       "      <td>3.979630e+08</td>\n",
       "    </tr>\n",
       "    <tr>\n",
       "      <th>25%</th>\n",
       "      <td>6.124170e+07</td>\n",
       "      <td>-1.224332e+02</td>\n",
       "      <td>3.775302e+01</td>\n",
       "      <td>6.124170e+12</td>\n",
       "    </tr>\n",
       "    <tr>\n",
       "      <th>50%</th>\n",
       "      <td>1.011558e+08</td>\n",
       "      <td>-1.224166e+02</td>\n",
       "      <td>3.777542e+01</td>\n",
       "      <td>1.011558e+13</td>\n",
       "    </tr>\n",
       "    <tr>\n",
       "      <th>75%</th>\n",
       "      <td>1.409256e+08</td>\n",
       "      <td>-1.224069e+02</td>\n",
       "      <td>3.778448e+01</td>\n",
       "      <td>1.409256e+13</td>\n",
       "    </tr>\n",
       "    <tr>\n",
       "      <th>max</th>\n",
       "      <td>9.915824e+08</td>\n",
       "      <td>-1.205000e+02</td>\n",
       "      <td>9.000000e+01</td>\n",
       "      <td>9.915824e+13</td>\n",
       "    </tr>\n",
       "  </tbody>\n",
       "</table>\n",
       "</div>"
      ],
      "text/plain": [
       "         IncidntNum             X             Y          PdId\n",
       "count  2.215024e+06  2.215024e+06  2.215024e+06  2.215024e+06\n",
       "mean   1.040728e+08 -1.224229e+02  3.777076e+01  1.040728e+13\n",
       "std    4.612827e+07  2.983459e-02  4.203596e-01  4.612827e+12\n",
       "min    3.979000e+03 -1.225136e+02  3.770788e+01  3.979630e+08\n",
       "25%    6.124170e+07 -1.224332e+02  3.775302e+01  6.124170e+12\n",
       "50%    1.011558e+08 -1.224166e+02  3.777542e+01  1.011558e+13\n",
       "75%    1.409256e+08 -1.224069e+02  3.778448e+01  1.409256e+13\n",
       "max    9.915824e+08 -1.205000e+02  9.000000e+01  9.915824e+13"
      ]
     },
     "execution_count": 13,
     "metadata": {},
     "output_type": "execute_result"
    }
   ],
   "source": [
    "#stat summary\n",
    "df.describe()"
   ]
  },
  {
   "cell_type": "code",
   "execution_count": 5,
   "metadata": {},
   "outputs": [
    {
     "name": "stdout",
     "output_type": "stream",
     "text": [
      "<class 'pandas.core.frame.DataFrame'>\n",
      "RangeIndex: 2215024 entries, 0 to 2215023\n",
      "Data columns (total 13 columns):\n",
      "IncidntNum    int64\n",
      "Category      object\n",
      "Descript      object\n",
      "DayOfWeek     object\n",
      "Date          object\n",
      "Time          object\n",
      "PdDistrict    object\n",
      "Resolution    object\n",
      "Address       object\n",
      "X             float64\n",
      "Y             float64\n",
      "Location      object\n",
      "PdId          int64\n",
      "dtypes: float64(2), int64(2), object(9)\n",
      "memory usage: 219.7+ MB\n"
     ]
    }
   ],
   "source": [
    "#similar to str() in R\n",
    "df.info()"
   ]
  },
  {
   "cell_type": "markdown",
   "metadata": {},
   "source": [
    "### Missing value handling "
   ]
  },
  {
   "cell_type": "code",
   "execution_count": 4,
   "metadata": {},
   "outputs": [
    {
     "data": {
      "text/plain": [
       "IncidntNum    0\n",
       "Category      0\n",
       "Descript      0\n",
       "DayOfWeek     0\n",
       "Date          0\n",
       "Time          0\n",
       "PdDistrict    1\n",
       "Resolution    0\n",
       "Address       0\n",
       "X             0\n",
       "Y             0\n",
       "Location      0\n",
       "PdId          0\n",
       "dtype: int64"
      ]
     },
     "execution_count": 4,
     "metadata": {},
     "output_type": "execute_result"
    }
   ],
   "source": [
    "df.isnull().sum()"
   ]
  },
  {
   "cell_type": "markdown",
   "metadata": {},
   "source": [
    "Only one missing value coming from PdDistrict. We will take a further look"
   ]
  },
  {
   "cell_type": "code",
   "execution_count": 5,
   "metadata": {},
   "outputs": [
    {
     "data": {
      "text/html": [
       "<div>\n",
       "<style scoped>\n",
       "    .dataframe tbody tr th:only-of-type {\n",
       "        vertical-align: middle;\n",
       "    }\n",
       "\n",
       "    .dataframe tbody tr th {\n",
       "        vertical-align: top;\n",
       "    }\n",
       "\n",
       "    .dataframe thead th {\n",
       "        text-align: right;\n",
       "    }\n",
       "</style>\n",
       "<table border=\"1\" class=\"dataframe\">\n",
       "  <thead>\n",
       "    <tr style=\"text-align: right;\">\n",
       "      <th></th>\n",
       "      <th>IncidntNum</th>\n",
       "      <th>Category</th>\n",
       "      <th>Descript</th>\n",
       "      <th>DayOfWeek</th>\n",
       "      <th>Date</th>\n",
       "      <th>Time</th>\n",
       "      <th>PdDistrict</th>\n",
       "      <th>Resolution</th>\n",
       "      <th>Address</th>\n",
       "      <th>X</th>\n",
       "      <th>Y</th>\n",
       "      <th>Location</th>\n",
       "      <th>PdId</th>\n",
       "    </tr>\n",
       "  </thead>\n",
       "  <tbody>\n",
       "    <tr>\n",
       "      <th>345394</th>\n",
       "      <td>166018573</td>\n",
       "      <td>LARCENY/THEFT</td>\n",
       "      <td>GRAND THEFT FROM LOCKED AUTO</td>\n",
       "      <td>Sunday</td>\n",
       "      <td>2016-01-17T00:00:00.000</td>\n",
       "      <td>23:54</td>\n",
       "      <td>NaN</td>\n",
       "      <td>NONE</td>\n",
       "      <td>100 Block of VELASCO AV</td>\n",
       "      <td>-122.413352</td>\n",
       "      <td>37.708202</td>\n",
       "      <td>{'type': 'Point', 'coordinates': [-122.4133519...</td>\n",
       "      <td>16601857306244</td>\n",
       "    </tr>\n",
       "  </tbody>\n",
       "</table>\n",
       "</div>"
      ],
      "text/plain": [
       "        IncidntNum       Category                      Descript DayOfWeek  \\\n",
       "345394   166018573  LARCENY/THEFT  GRAND THEFT FROM LOCKED AUTO    Sunday   \n",
       "\n",
       "                           Date   Time PdDistrict Resolution  \\\n",
       "345394  2016-01-17T00:00:00.000  23:54        NaN       NONE   \n",
       "\n",
       "                        Address           X          Y  \\\n",
       "345394  100 Block of VELASCO AV -122.413352  37.708202   \n",
       "\n",
       "                                                 Location            PdId  \n",
       "345394  {'type': 'Point', 'coordinates': [-122.4133519...  16601857306244  "
      ]
     },
     "execution_count": 5,
     "metadata": {},
     "output_type": "execute_result"
    }
   ],
   "source": [
    "df[df.PdDistrict.isnull()]"
   ]
  },
  {
   "cell_type": "markdown",
   "metadata": {},
   "source": [
    "We will replace the Null PdDistrict with 'INGLESIDE', based on the coordinates provided as well as police district data from https://data.sfgov.org/Public-Safety/Current-Police-Districts/wkhw-cjsf"
   ]
  },
  {
   "cell_type": "code",
   "execution_count": 580,
   "metadata": {},
   "outputs": [],
   "source": [
    "df.PdDistrict.fillna(\"INGLESIDE\", inplace=True)"
   ]
  },
  {
   "cell_type": "markdown",
   "metadata": {},
   "source": [
    "### Drop Duplicates "
   ]
  },
  {
   "cell_type": "code",
   "execution_count": 581,
   "metadata": {},
   "outputs": [],
   "source": [
    "df.drop_duplicates(inplace=True)\n",
    "#No duplicates in this dataset"
   ]
  },
  {
   "cell_type": "markdown",
   "metadata": {},
   "source": [
    "### Check Data Distribution"
   ]
  },
  {
   "cell_type": "markdown",
   "metadata": {},
   "source": [
    "We will firstly look into each column and it's distribution. We would particularly want to explore spatial and temporal distribution. This will also give us an idea of what feature engineering can be done (both derives from existing features, and from external dataset) "
   ]
  },
  {
   "cell_type": "code",
   "execution_count": 9,
   "metadata": {},
   "outputs": [
    {
     "data": {
      "text/plain": [
       "LARCENY/THEFT                  480448\n",
       "OTHER OFFENSES                 309358\n",
       "NON-CRIMINAL                   238323\n",
       "ASSAULT                        194694\n",
       "VEHICLE THEFT                  126602\n",
       "DRUG/NARCOTIC                  119628\n",
       "VANDALISM                      116059\n",
       "WARRANTS                       101379\n",
       "BURGLARY                        91543\n",
       "SUSPICIOUS OCC                  80444\n",
       "MISSING PERSON                  64961\n",
       "ROBBERY                         55867\n",
       "FRAUD                           41542\n",
       "SECONDARY CODES                 25831\n",
       "FORGERY/COUNTERFEITING          23050\n",
       "WEAPON LAWS                     22234\n",
       "TRESPASS                        19449\n",
       "PROSTITUTION                    16701\n",
       "STOLEN PROPERTY                 11891\n",
       "SEX OFFENSES, FORCIBLE          11742\n",
       "DISORDERLY CONDUCT              10040\n",
       "DRUNKENNESS                      9826\n",
       "RECOVERED VEHICLE                8716\n",
       "DRIVING UNDER THE INFLUENCE      5672\n",
       "KIDNAPPING                       5346\n",
       "RUNAWAY                          4440\n",
       "LIQUOR LAWS                      4083\n",
       "ARSON                            3931\n",
       "EMBEZZLEMENT                     2988\n",
       "LOITERING                        2430\n",
       "SUICIDE                          1292\n",
       "FAMILY OFFENSES                  1183\n",
       "BAD CHECKS                        925\n",
       "BRIBERY                           813\n",
       "EXTORTION                         741\n",
       "SEX OFFENSES, NON FORCIBLE        431\n",
       "GAMBLING                          348\n",
       "PORNOGRAPHY/OBSCENE MAT            59\n",
       "TREA                               14\n",
       "Name: Category, dtype: int64"
      ]
     },
     "execution_count": 9,
     "metadata": {},
     "output_type": "execute_result"
    }
   ],
   "source": [
    "df.Category.value_counts()\n"
   ]
  },
  {
   "cell_type": "code",
   "execution_count": 31,
   "metadata": {},
   "outputs": [
    {
     "data": {
      "text/plain": [
       "Friday       337941\n",
       "Wednesday    324020\n",
       "Saturday     320593\n",
       "Thursday     316156\n",
       "Tuesday      315135\n",
       "Monday       306587\n",
       "Sunday       294592\n",
       "Name: DayOfWeek, dtype: int64"
      ]
     },
     "execution_count": 31,
     "metadata": {},
     "output_type": "execute_result"
    }
   ],
   "source": [
    "df.DayOfWeek.value_counts()\n"
   ]
  },
  {
   "cell_type": "code",
   "execution_count": 32,
   "metadata": {},
   "outputs": [
    {
     "data": {
      "text/plain": [
       "SOUTHERN      399785\n",
       "MISSION       300076\n",
       "NORTHERN      272713\n",
       "CENTRAL       226255\n",
       "BAYVIEW       221000\n",
       "INGLESIDE     194181\n",
       "TENDERLOIN    191746\n",
       "TARAVAL       166971\n",
       "PARK          125479\n",
       "RICHMOND      116818\n",
       "Name: PdDistrict, dtype: int64"
      ]
     },
     "execution_count": 32,
     "metadata": {},
     "output_type": "execute_result"
    }
   ],
   "source": [
    "df.PdDistrict.value_counts()"
   ]
  },
  {
   "cell_type": "code",
   "execution_count": 35,
   "metadata": {},
   "outputs": [
    {
     "data": {
      "text/plain": [
       "NONE                                      1389500\n",
       "ARREST, BOOKED                             524979\n",
       "ARREST, CITED                              154789\n",
       "LOCATED                                     34463\n",
       "PSYCHOPATHIC CASE                           29185\n",
       "UNFOUNDED                                   23799\n",
       "JUVENILE BOOKED                             14158\n",
       "COMPLAINANT REFUSES TO PROSECUTE             8089\n",
       "DISTRICT ATTORNEY REFUSES TO PROSECUTE       7955\n",
       "NOT PROSECUTED                               7720\n",
       "JUVENILE CITED                               6587\n",
       "PROSECUTED BY OUTSIDE AGENCY                 5070\n",
       "EXCEPTIONAL CLEARANCE                        4258\n",
       "JUVENILE ADMONISHED                          3004\n",
       "JUVENILE DIVERTED                             694\n",
       "CLEARED-CONTACT JUVENILE FOR MORE INFO        689\n",
       "PROSECUTED FOR LESSER OFFENSE                  85\n",
       "Name: Resolution, dtype: int64"
      ]
     },
     "execution_count": 35,
     "metadata": {},
     "output_type": "execute_result"
    }
   ],
   "source": [
    "df.Resolution.value_counts()\n"
   ]
  },
  {
   "cell_type": "markdown",
   "metadata": {},
   "source": [
    "We can do a grouping to turn them into 'Resolved' vs. 'Unresolved'"
   ]
  },
  {
   "cell_type": "markdown",
   "metadata": {},
   "source": [
    "## Visualizations"
   ]
  },
  {
   "cell_type": "markdown",
   "metadata": {},
   "source": [
    "Visualizations are stored in a Tableau Dashboard that is published here:\n",
    "\n",
    "**External Data Added**\n",
    "  - Police District [Source: DataSF](https://data.sfgov.org/Public-Safety/Current-Police-Districts/wkhw-cjsf)\n",
    "  - Budget [Source: DataSF](https://data.sfgov.org/City-Management-and-Ethics/Budget/xdgd-c79v)\n",
    "  - Holiday\n",
    "  \n",
    "**Feature Engineering**\n",
    "  - Hour of day\n",
    "  - Seasonality (Quarter)\n",
    "  - Resolution Rate \n",
    "  - Resolution type ('Resolved', 'Unresolved')\n",
    "  - Annual police budget (salary only)\n",
    "\n",
    "**Key Opportunities**\n",
    "  - Lunchtime, Friday evening peak, and Sat night has more incidents\n",
    "  - 'SOUTHERN' district sees higher incident number while lower resolution rate, which requires more attention\n",
    "  - Non criminal categories, especially 'Theft', saw a significant increase of incident number due to the threshold increase in 2010 in CA\n",
    "  - Holiday seasons are more calm"
   ]
  },
  {
   "cell_type": "markdown",
   "metadata": {},
   "source": [
    "## Feature Encoding (Removed)"
   ]
  },
  {
   "cell_type": "code",
   "execution_count": 66,
   "metadata": {},
   "outputs": [],
   "source": [
    "#lets check correlation matrix\n",
    "#integerincoding\n",
    "pd_districts = {'SOUTHERN':0, 'MISSION':1, 'NORTHERN':2, 'CENTRAL':3, 'BAYVIEW':4, 'INGLESIDE':5, \n",
    "                'TENDERLOIN':6, 'TARAVAL':7, 'PARK':8, 'RICHMOND':9}\n",
    "\n",
    "test.PdDistrict.fillna(\"INGLESIDE\", inplace=True)\n",
    "#option 2 test['PdDistrict'].replace(pd_districts, inplace = True)\n",
    "test.replace({'PdDistrict':pd_districts},inplace = True)"
   ]
  },
  {
   "cell_type": "code",
   "execution_count": 50,
   "metadata": {},
   "outputs": [
    {
     "name": "stdout",
     "output_type": "stream",
     "text": [
      "['ARSON', 'ASSAULT', 'BAD CHECKS', 'BRIBERY', 'BURGLARY', 'DISORDERLY CONDUCT', 'DRIVING UNDER THE INFLUENCE', 'DRUG/NARCOTIC', 'DRUNKENNESS', 'EMBEZZLEMENT', 'EXTORTION', 'FAMILY OFFENSES', 'FORGERY/COUNTERFEITING', 'FRAUD', 'GAMBLING', 'KIDNAPPING', 'LARCENY/THEFT', 'LIQUOR LAWS', 'LOITERING', 'MISSING PERSON', 'NON-CRIMINAL', 'OTHER OFFENSES', 'PORNOGRAPHY/OBSCENE MAT', 'PROSTITUTION', 'RECOVERED VEHICLE', 'ROBBERY', 'RUNAWAY', 'SECONDARY CODES', 'SEX OFFENSES, FORCIBLE', 'SEX OFFENSES, NON FORCIBLE', 'STOLEN PROPERTY', 'SUICIDE', 'SUSPICIOUS OCC', 'TREA', 'TRESPASS', 'VANDALISM', 'VEHICLE THEFT', 'WARRANTS', 'WEAPON LAWS']\n"
     ]
    }
   ],
   "source": [
    "#Category\n",
    "data = [test] \n",
    "\n",
    "for dataset in data:\n",
    "    cat_le = LabelEncoder()\n",
    "    cat_le.fit(dataset['Category'].unique())\n",
    "    print(list(cat_le.classes_))\n",
    "    dataset['Category']=cat_le.transform(dataset['Category'])"
   ]
  },
  {
   "cell_type": "code",
   "execution_count": 60,
   "metadata": {},
   "outputs": [
    {
     "data": {
      "text/plain": [
       "array([36, 20, 21, 25,  7, 17, 37, 23,  1, 16, 35, 30, 15,  4, 27,  8, 32,\n",
       "        6, 38, 13, 34, 11, 19, 28, 26,  5, 12, 14,  3, 10,  0,  9, 22, 31,\n",
       "       29,  2, 18, 24, 33])"
      ]
     },
     "execution_count": 60,
     "metadata": {},
     "output_type": "execute_result"
    }
   ],
   "source": [
    "len(test['Category'].unique())\n",
    "len(cat_le.classes_)\n"
   ]
  },
  {
   "cell_type": "code",
   "execution_count": 57,
   "metadata": {},
   "outputs": [
    {
     "data": {
      "text/plain": [
       "{'ARSON': 0,\n",
       " 'ASSAULT': 1,\n",
       " 'BAD CHECKS': 2,\n",
       " 'BRIBERY': 3,\n",
       " 'BURGLARY': 4,\n",
       " 'DISORDERLY CONDUCT': 5,\n",
       " 'DRIVING UNDER THE INFLUENCE': 6,\n",
       " 'DRUG/NARCOTIC': 7,\n",
       " 'DRUNKENNESS': 8,\n",
       " 'EMBEZZLEMENT': 9,\n",
       " 'EXTORTION': 10,\n",
       " 'FAMILY OFFENSES': 11,\n",
       " 'FORGERY/COUNTERFEITING': 12,\n",
       " 'FRAUD': 13,\n",
       " 'GAMBLING': 14,\n",
       " 'KIDNAPPING': 15,\n",
       " 'LARCENY/THEFT': 16,\n",
       " 'LIQUOR LAWS': 17,\n",
       " 'LOITERING': 18,\n",
       " 'MISSING PERSON': 19,\n",
       " 'NON-CRIMINAL': 20,\n",
       " 'OTHER OFFENSES': 21,\n",
       " 'PORNOGRAPHY/OBSCENE MAT': 22,\n",
       " 'PROSTITUTION': 23,\n",
       " 'RECOVERED VEHICLE': 24,\n",
       " 'ROBBERY': 25,\n",
       " 'RUNAWAY': 26,\n",
       " 'SECONDARY CODES': 27,\n",
       " 'SEX OFFENSES, FORCIBLE': 28,\n",
       " 'SEX OFFENSES, NON FORCIBLE': 29,\n",
       " 'STOLEN PROPERTY': 30,\n",
       " 'SUICIDE': 31,\n",
       " 'SUSPICIOUS OCC': 32,\n",
       " 'TREA': 33,\n",
       " 'TRESPASS': 34,\n",
       " 'VANDALISM': 35,\n",
       " 'VEHICLE THEFT': 36,\n",
       " 'WARRANTS': 37,\n",
       " 'WEAPON LAWS': 38}"
      ]
     },
     "execution_count": 57,
     "metadata": {},
     "output_type": "execute_result"
    }
   ],
   "source": [
    "#zip to match, then turn them to dict\n",
    "dict(zip(cat_le.classes_, cat_le.transform(cat_le.classes_)))"
   ]
  },
  {
   "cell_type": "code",
   "execution_count": 68,
   "metadata": {},
   "outputs": [
    {
     "data": {
      "text/html": [
       "<div>\n",
       "<style scoped>\n",
       "    .dataframe tbody tr th:only-of-type {\n",
       "        vertical-align: middle;\n",
       "    }\n",
       "\n",
       "    .dataframe tbody tr th {\n",
       "        vertical-align: top;\n",
       "    }\n",
       "\n",
       "    .dataframe thead th {\n",
       "        text-align: right;\n",
       "    }\n",
       "</style>\n",
       "<table border=\"1\" class=\"dataframe\">\n",
       "  <thead>\n",
       "    <tr style=\"text-align: right;\">\n",
       "      <th></th>\n",
       "      <th>IncidntNum</th>\n",
       "      <th>Category</th>\n",
       "      <th>Descript</th>\n",
       "      <th>DayOfWeek</th>\n",
       "      <th>Date</th>\n",
       "      <th>Time</th>\n",
       "      <th>PdDistrict</th>\n",
       "      <th>Resolution</th>\n",
       "      <th>Address</th>\n",
       "      <th>X</th>\n",
       "      <th>Y</th>\n",
       "      <th>Location</th>\n",
       "      <th>PdId</th>\n",
       "    </tr>\n",
       "  </thead>\n",
       "  <tbody>\n",
       "    <tr>\n",
       "      <th>0</th>\n",
       "      <td>180362289</td>\n",
       "      <td>36</td>\n",
       "      <td>STOLEN MOTORCYCLE</td>\n",
       "      <td>Tuesday</td>\n",
       "      <td>2018-05-15T00:00:00.000</td>\n",
       "      <td>10:30</td>\n",
       "      <td>0</td>\n",
       "      <td>NONE</td>\n",
       "      <td>700 Block of TEHAMA ST</td>\n",
       "      <td>-122.411912</td>\n",
       "      <td>37.775207</td>\n",
       "      <td>{'type': 'Point', 'coordinates': [-122.4119120...</td>\n",
       "      <td>18036228907023</td>\n",
       "    </tr>\n",
       "    <tr>\n",
       "      <th>1</th>\n",
       "      <td>180360948</td>\n",
       "      <td>20</td>\n",
       "      <td>AIDED CASE, MENTAL DISTURBED</td>\n",
       "      <td>Tuesday</td>\n",
       "      <td>2018-05-15T00:00:00.000</td>\n",
       "      <td>04:14</td>\n",
       "      <td>0</td>\n",
       "      <td>NONE</td>\n",
       "      <td>MARKET ST / SOUTH VAN NESS AV</td>\n",
       "      <td>-122.419258</td>\n",
       "      <td>37.775146</td>\n",
       "      <td>{'type': 'Point', 'coordinates': [-122.4192578...</td>\n",
       "      <td>18036094864020</td>\n",
       "    </tr>\n",
       "    <tr>\n",
       "      <th>2</th>\n",
       "      <td>180360879</td>\n",
       "      <td>21</td>\n",
       "      <td>PAROLE VIOLATION</td>\n",
       "      <td>Tuesday</td>\n",
       "      <td>2018-05-15T00:00:00.000</td>\n",
       "      <td>02:01</td>\n",
       "      <td>1</td>\n",
       "      <td>ARREST, BOOKED</td>\n",
       "      <td>CAPP ST / 21ST ST</td>\n",
       "      <td>-122.417813</td>\n",
       "      <td>37.757101</td>\n",
       "      <td>{'type': 'Point', 'coordinates': [-122.4178125...</td>\n",
       "      <td>18036087926150</td>\n",
       "    </tr>\n",
       "    <tr>\n",
       "      <th>3</th>\n",
       "      <td>180360879</td>\n",
       "      <td>21</td>\n",
       "      <td>TRAFFIC VIOLATION ARREST</td>\n",
       "      <td>Tuesday</td>\n",
       "      <td>2018-05-15T00:00:00.000</td>\n",
       "      <td>02:01</td>\n",
       "      <td>1</td>\n",
       "      <td>ARREST, BOOKED</td>\n",
       "      <td>CAPP ST / 21ST ST</td>\n",
       "      <td>-122.417813</td>\n",
       "      <td>37.757101</td>\n",
       "      <td>{'type': 'Point', 'coordinates': [-122.4178125...</td>\n",
       "      <td>18036087965010</td>\n",
       "    </tr>\n",
       "    <tr>\n",
       "      <th>4</th>\n",
       "      <td>180360879</td>\n",
       "      <td>21</td>\n",
       "      <td>TRAFFIC VIOLATION</td>\n",
       "      <td>Tuesday</td>\n",
       "      <td>2018-05-15T00:00:00.000</td>\n",
       "      <td>02:01</td>\n",
       "      <td>1</td>\n",
       "      <td>ARREST, BOOKED</td>\n",
       "      <td>CAPP ST / 21ST ST</td>\n",
       "      <td>-122.417813</td>\n",
       "      <td>37.757101</td>\n",
       "      <td>{'type': 'Point', 'coordinates': [-122.4178125...</td>\n",
       "      <td>18036087965015</td>\n",
       "    </tr>\n",
       "  </tbody>\n",
       "</table>\n",
       "</div>"
      ],
      "text/plain": [
       "   IncidntNum  Category                      Descript DayOfWeek  \\\n",
       "0   180362289        36             STOLEN MOTORCYCLE   Tuesday   \n",
       "1   180360948        20  AIDED CASE, MENTAL DISTURBED   Tuesday   \n",
       "2   180360879        21              PAROLE VIOLATION   Tuesday   \n",
       "3   180360879        21      TRAFFIC VIOLATION ARREST   Tuesday   \n",
       "4   180360879        21             TRAFFIC VIOLATION   Tuesday   \n",
       "\n",
       "                      Date   Time  PdDistrict      Resolution  \\\n",
       "0  2018-05-15T00:00:00.000  10:30           0            NONE   \n",
       "1  2018-05-15T00:00:00.000  04:14           0            NONE   \n",
       "2  2018-05-15T00:00:00.000  02:01           1  ARREST, BOOKED   \n",
       "3  2018-05-15T00:00:00.000  02:01           1  ARREST, BOOKED   \n",
       "4  2018-05-15T00:00:00.000  02:01           1  ARREST, BOOKED   \n",
       "\n",
       "                         Address           X          Y  \\\n",
       "0         700 Block of TEHAMA ST -122.411912  37.775207   \n",
       "1  MARKET ST / SOUTH VAN NESS AV -122.419258  37.775146   \n",
       "2              CAPP ST / 21ST ST -122.417813  37.757101   \n",
       "3              CAPP ST / 21ST ST -122.417813  37.757101   \n",
       "4              CAPP ST / 21ST ST -122.417813  37.757101   \n",
       "\n",
       "                                            Location            PdId  \n",
       "0  {'type': 'Point', 'coordinates': [-122.4119120...  18036228907023  \n",
       "1  {'type': 'Point', 'coordinates': [-122.4192578...  18036094864020  \n",
       "2  {'type': 'Point', 'coordinates': [-122.4178125...  18036087926150  \n",
       "3  {'type': 'Point', 'coordinates': [-122.4178125...  18036087965010  \n",
       "4  {'type': 'Point', 'coordinates': [-122.4178125...  18036087965015  "
      ]
     },
     "execution_count": 68,
     "metadata": {},
     "output_type": "execute_result"
    }
   ],
   "source": [
    "test.head()"
   ]
  },
  {
   "cell_type": "code",
   "execution_count": 69,
   "metadata": {},
   "outputs": [
    {
     "data": {
      "image/png": "[encoded data removed]",
      "text/plain": [
       "<Figure size 432x288 with 2 Axes>"
      ]
     },
     "metadata": {},
     "output_type": "display_data"
    }
   ],
   "source": [
    "\n",
    "corr = test.corr()\n",
    "ax = sns.heatmap(corr, vmin =-1, vmax = 1, center = 0, cmap = sns.diverging_palette(20,220,n=200),square = True)"
   ]
  },
  {
   "cell_type": "markdown",
   "metadata": {},
   "source": [
    "## Time Series"
   ]
  },
  {
   "cell_type": "markdown",
   "metadata": {},
   "source": [
    "### External dataset"
   ]
  },
  {
   "cell_type": "markdown",
   "metadata": {},
   "source": [
    "#### a) Holiday"
   ]
  },
  {
   "cell_type": "code",
   "execution_count": 10,
   "metadata": {},
   "outputs": [],
   "source": [
    "from pandas.tseries.holiday import USFederalHolidayCalendar as calendar\n",
    "\n",
    "cal = calendar()\n",
    "\n",
    "holidays = cal.holidays(start = df['Date'].min(), end = df['Date'].max())\n"
   ]
  },
  {
   "cell_type": "code",
   "execution_count": 583,
   "metadata": {},
   "outputs": [],
   "source": [
    "df['Date'] = pd.to_datetime(df['Date'], errors='coerce')"
   ]
  },
  {
   "cell_type": "code",
   "execution_count": 12,
   "metadata": {},
   "outputs": [],
   "source": [
    "df['Holiday'] = df['Date'].dt.date.astype('datetime64').isin(holidays)"
   ]
  },
  {
   "cell_type": "markdown",
   "metadata": {},
   "source": [
    "#### b) Budget"
   ]
  },
  {
   "cell_type": "code",
   "execution_count": 13,
   "metadata": {},
   "outputs": [],
   "source": [
    "budget = pd.read_csv('Budget.csv',low_memory=False)"
   ]
  },
  {
   "cell_type": "code",
   "execution_count": 14,
   "metadata": {},
   "outputs": [
    {
     "name": "stdout",
     "output_type": "stream",
     "text": [
      "<class 'pandas.core.frame.DataFrame'>\n",
      "RangeIndex: 216259 entries, 0 to 216258\n",
      "Data columns (total 22 columns):\n",
      "Fiscal Year                216259 non-null int64\n",
      "Revenue or Spending        216259 non-null object\n",
      "Related Govt Unit          216259 non-null object\n",
      "Organization Group Code    216259 non-null int64\n",
      "Organization Group         216259 non-null object\n",
      "Department Code            216259 non-null object\n",
      "Department                 216259 non-null object\n",
      "Program Code               216259 non-null object\n",
      "Program                    216259 non-null object\n",
      "Character Code             216259 non-null object\n",
      "Character                  216259 non-null object\n",
      "Object Code                216259 non-null object\n",
      "Object                     216259 non-null object\n",
      "Sub-object Code            216259 non-null object\n",
      "Sub-object                 216259 non-null object\n",
      "Fund Type Code             216259 non-null object\n",
      "Fund Type                  216259 non-null object\n",
      "Fund Code                  216259 non-null object\n",
      "Fund                       216259 non-null object\n",
      "Fund Category Code         216237 non-null float64\n",
      "Fund Category              216237 non-null object\n",
      "Budget                     216259 non-null int64\n",
      "dtypes: float64(1), int64(3), object(18)\n",
      "memory usage: 36.3+ MB\n"
     ]
    },
    {
     "data": {
      "text/plain": [
       "(216259, 22)"
      ]
     },
     "execution_count": 14,
     "metadata": {},
     "output_type": "execute_result"
    }
   ],
   "source": [
    "budget.info()\n",
    "budget.shape"
   ]
  },
  {
   "cell_type": "code",
   "execution_count": 15,
   "metadata": {},
   "outputs": [],
   "source": [
    "tot_budget = budget[(budget['Department Code'] == 'POL')&(budget['Character']== 'Salaries')].groupby(['Fiscal Year'])['Budget'].sum().to_frame('tot_budget').reset_index()"
   ]
  },
  {
   "cell_type": "code",
   "execution_count": 16,
   "metadata": {},
   "outputs": [
    {
     "data": {
      "text/html": [
       "<div>\n",
       "<style scoped>\n",
       "    .dataframe tbody tr th:only-of-type {\n",
       "        vertical-align: middle;\n",
       "    }\n",
       "\n",
       "    .dataframe tbody tr th {\n",
       "        vertical-align: top;\n",
       "    }\n",
       "\n",
       "    .dataframe thead th {\n",
       "        text-align: right;\n",
       "    }\n",
       "</style>\n",
       "<table border=\"1\" class=\"dataframe\">\n",
       "  <thead>\n",
       "    <tr style=\"text-align: right;\">\n",
       "      <th></th>\n",
       "      <th>Fiscal Year</th>\n",
       "      <th>tot_budget</th>\n",
       "    </tr>\n",
       "  </thead>\n",
       "  <tbody>\n",
       "    <tr>\n",
       "      <th>0</th>\n",
       "      <td>2010</td>\n",
       "      <td>322576479</td>\n",
       "    </tr>\n",
       "    <tr>\n",
       "      <th>1</th>\n",
       "      <td>2011</td>\n",
       "      <td>315116378</td>\n",
       "    </tr>\n",
       "    <tr>\n",
       "      <th>2</th>\n",
       "      <td>2012</td>\n",
       "      <td>314266702</td>\n",
       "    </tr>\n",
       "    <tr>\n",
       "      <th>3</th>\n",
       "      <td>2013</td>\n",
       "      <td>332475921</td>\n",
       "    </tr>\n",
       "    <tr>\n",
       "      <th>4</th>\n",
       "      <td>2014</td>\n",
       "      <td>341287508</td>\n",
       "    </tr>\n",
       "    <tr>\n",
       "      <th>5</th>\n",
       "      <td>2015</td>\n",
       "      <td>348097873</td>\n",
       "    </tr>\n",
       "    <tr>\n",
       "      <th>6</th>\n",
       "      <td>2016</td>\n",
       "      <td>362642027</td>\n",
       "    </tr>\n",
       "    <tr>\n",
       "      <th>7</th>\n",
       "      <td>2017</td>\n",
       "      <td>384654857</td>\n",
       "    </tr>\n",
       "    <tr>\n",
       "      <th>8</th>\n",
       "      <td>2018</td>\n",
       "      <td>385567378</td>\n",
       "    </tr>\n",
       "    <tr>\n",
       "      <th>9</th>\n",
       "      <td>2019</td>\n",
       "      <td>412380238</td>\n",
       "    </tr>\n",
       "    <tr>\n",
       "      <th>10</th>\n",
       "      <td>2020</td>\n",
       "      <td>446391455</td>\n",
       "    </tr>\n",
       "    <tr>\n",
       "      <th>11</th>\n",
       "      <td>2021</td>\n",
       "      <td>468527673</td>\n",
       "    </tr>\n",
       "  </tbody>\n",
       "</table>\n",
       "</div>"
      ],
      "text/plain": [
       "    Fiscal Year  tot_budget\n",
       "0          2010   322576479\n",
       "1          2011   315116378\n",
       "2          2012   314266702\n",
       "3          2013   332475921\n",
       "4          2014   341287508\n",
       "5          2015   348097873\n",
       "6          2016   362642027\n",
       "7          2017   384654857\n",
       "8          2018   385567378\n",
       "9          2019   412380238\n",
       "10         2020   446391455\n",
       "11         2021   468527673"
      ]
     },
     "execution_count": 16,
     "metadata": {},
     "output_type": "execute_result"
    }
   ],
   "source": [
    "tot_budget"
   ]
  },
  {
   "cell_type": "code",
   "execution_count": 17,
   "metadata": {},
   "outputs": [],
   "source": [
    "tot_budget.to_csv('budget_tot.csv')"
   ]
  },
  {
   "cell_type": "markdown",
   "metadata": {},
   "source": [
    "#### Create weekly data, then append holiday and budget to it"
   ]
  },
  {
   "cell_type": "code",
   "execution_count": 584,
   "metadata": {},
   "outputs": [
    {
     "data": {
      "text/html": [
       "<div>\n",
       "<style scoped>\n",
       "    .dataframe tbody tr th:only-of-type {\n",
       "        vertical-align: middle;\n",
       "    }\n",
       "\n",
       "    .dataframe tbody tr th {\n",
       "        vertical-align: top;\n",
       "    }\n",
       "\n",
       "    .dataframe thead th {\n",
       "        text-align: right;\n",
       "    }\n",
       "</style>\n",
       "<table border=\"1\" class=\"dataframe\">\n",
       "  <thead>\n",
       "    <tr style=\"text-align: right;\">\n",
       "      <th></th>\n",
       "      <th>IncidntNum</th>\n",
       "      <th>Category</th>\n",
       "      <th>Descript</th>\n",
       "      <th>DayOfWeek</th>\n",
       "      <th>Date</th>\n",
       "      <th>Time</th>\n",
       "      <th>PdDistrict</th>\n",
       "      <th>Resolution</th>\n",
       "      <th>Address</th>\n",
       "      <th>X</th>\n",
       "      <th>Y</th>\n",
       "      <th>Location</th>\n",
       "      <th>PdId</th>\n",
       "      <th>week_start</th>\n",
       "    </tr>\n",
       "  </thead>\n",
       "  <tbody>\n",
       "    <tr>\n",
       "      <th>0</th>\n",
       "      <td>180362289</td>\n",
       "      <td>VEHICLE THEFT</td>\n",
       "      <td>STOLEN MOTORCYCLE</td>\n",
       "      <td>Tuesday</td>\n",
       "      <td>2018-05-15</td>\n",
       "      <td>10:30</td>\n",
       "      <td>SOUTHERN</td>\n",
       "      <td>NONE</td>\n",
       "      <td>700 Block of TEHAMA ST</td>\n",
       "      <td>-122.411912</td>\n",
       "      <td>37.775207</td>\n",
       "      <td>{'type': 'Point', 'coordinates': [-122.4119120...</td>\n",
       "      <td>18036228907023</td>\n",
       "      <td>2018-05-14</td>\n",
       "    </tr>\n",
       "    <tr>\n",
       "      <th>1</th>\n",
       "      <td>180360948</td>\n",
       "      <td>NON-CRIMINAL</td>\n",
       "      <td>AIDED CASE, MENTAL DISTURBED</td>\n",
       "      <td>Tuesday</td>\n",
       "      <td>2018-05-15</td>\n",
       "      <td>04:14</td>\n",
       "      <td>SOUTHERN</td>\n",
       "      <td>NONE</td>\n",
       "      <td>MARKET ST / SOUTH VAN NESS AV</td>\n",
       "      <td>-122.419258</td>\n",
       "      <td>37.775146</td>\n",
       "      <td>{'type': 'Point', 'coordinates': [-122.4192578...</td>\n",
       "      <td>18036094864020</td>\n",
       "      <td>2018-05-14</td>\n",
       "    </tr>\n",
       "    <tr>\n",
       "      <th>2</th>\n",
       "      <td>180360879</td>\n",
       "      <td>OTHER OFFENSES</td>\n",
       "      <td>PAROLE VIOLATION</td>\n",
       "      <td>Tuesday</td>\n",
       "      <td>2018-05-15</td>\n",
       "      <td>02:01</td>\n",
       "      <td>MISSION</td>\n",
       "      <td>ARREST, BOOKED</td>\n",
       "      <td>CAPP ST / 21ST ST</td>\n",
       "      <td>-122.417813</td>\n",
       "      <td>37.757101</td>\n",
       "      <td>{'type': 'Point', 'coordinates': [-122.4178125...</td>\n",
       "      <td>18036087926150</td>\n",
       "      <td>2018-05-14</td>\n",
       "    </tr>\n",
       "    <tr>\n",
       "      <th>3</th>\n",
       "      <td>180360879</td>\n",
       "      <td>OTHER OFFENSES</td>\n",
       "      <td>TRAFFIC VIOLATION ARREST</td>\n",
       "      <td>Tuesday</td>\n",
       "      <td>2018-05-15</td>\n",
       "      <td>02:01</td>\n",
       "      <td>MISSION</td>\n",
       "      <td>ARREST, BOOKED</td>\n",
       "      <td>CAPP ST / 21ST ST</td>\n",
       "      <td>-122.417813</td>\n",
       "      <td>37.757101</td>\n",
       "      <td>{'type': 'Point', 'coordinates': [-122.4178125...</td>\n",
       "      <td>18036087965010</td>\n",
       "      <td>2018-05-14</td>\n",
       "    </tr>\n",
       "    <tr>\n",
       "      <th>4</th>\n",
       "      <td>180360879</td>\n",
       "      <td>OTHER OFFENSES</td>\n",
       "      <td>TRAFFIC VIOLATION</td>\n",
       "      <td>Tuesday</td>\n",
       "      <td>2018-05-15</td>\n",
       "      <td>02:01</td>\n",
       "      <td>MISSION</td>\n",
       "      <td>ARREST, BOOKED</td>\n",
       "      <td>CAPP ST / 21ST ST</td>\n",
       "      <td>-122.417813</td>\n",
       "      <td>37.757101</td>\n",
       "      <td>{'type': 'Point', 'coordinates': [-122.4178125...</td>\n",
       "      <td>18036087965015</td>\n",
       "      <td>2018-05-14</td>\n",
       "    </tr>\n",
       "  </tbody>\n",
       "</table>\n",
       "</div>"
      ],
      "text/plain": [
       "   IncidntNum        Category                      Descript DayOfWeek  \\\n",
       "0   180362289   VEHICLE THEFT             STOLEN MOTORCYCLE   Tuesday   \n",
       "1   180360948    NON-CRIMINAL  AIDED CASE, MENTAL DISTURBED   Tuesday   \n",
       "2   180360879  OTHER OFFENSES              PAROLE VIOLATION   Tuesday   \n",
       "3   180360879  OTHER OFFENSES      TRAFFIC VIOLATION ARREST   Tuesday   \n",
       "4   180360879  OTHER OFFENSES             TRAFFIC VIOLATION   Tuesday   \n",
       "\n",
       "        Date   Time PdDistrict      Resolution                        Address  \\\n",
       "0 2018-05-15  10:30   SOUTHERN            NONE         700 Block of TEHAMA ST   \n",
       "1 2018-05-15  04:14   SOUTHERN            NONE  MARKET ST / SOUTH VAN NESS AV   \n",
       "2 2018-05-15  02:01    MISSION  ARREST, BOOKED              CAPP ST / 21ST ST   \n",
       "3 2018-05-15  02:01    MISSION  ARREST, BOOKED              CAPP ST / 21ST ST   \n",
       "4 2018-05-15  02:01    MISSION  ARREST, BOOKED              CAPP ST / 21ST ST   \n",
       "\n",
       "            X          Y                                           Location  \\\n",
       "0 -122.411912  37.775207  {'type': 'Point', 'coordinates': [-122.4119120...   \n",
       "1 -122.419258  37.775146  {'type': 'Point', 'coordinates': [-122.4192578...   \n",
       "2 -122.417813  37.757101  {'type': 'Point', 'coordinates': [-122.4178125...   \n",
       "3 -122.417813  37.757101  {'type': 'Point', 'coordinates': [-122.4178125...   \n",
       "4 -122.417813  37.757101  {'type': 'Point', 'coordinates': [-122.4178125...   \n",
       "\n",
       "             PdId week_start  \n",
       "0  18036228907023 2018-05-14  \n",
       "1  18036094864020 2018-05-14  \n",
       "2  18036087926150 2018-05-14  \n",
       "3  18036087965010 2018-05-14  \n",
       "4  18036087965015 2018-05-14  "
      ]
     },
     "execution_count": 584,
     "metadata": {},
     "output_type": "execute_result"
    }
   ],
   "source": [
    "# add week column\n",
    "\n",
    "df['week_start'] = df['Date'] - pd.to_timedelta(df['Date'].dt.weekday, unit='D')\n",
    "\n",
    "df.head()"
   ]
  },
  {
   "cell_type": "code",
   "execution_count": 585,
   "metadata": {},
   "outputs": [],
   "source": [
    "# similarly, add year\n",
    "df['fisical_year'] = df['Date'].dt.year"
   ]
  },
  {
   "cell_type": "code",
   "execution_count": 586,
   "metadata": {},
   "outputs": [],
   "source": [
    "# start aggregation\n",
    "new = df.groupby(['week_start'])['IncidntNum'].count().to_frame('weekly_incidents').reset_index()"
   ]
  },
  {
   "cell_type": "code",
   "execution_count": 589,
   "metadata": {},
   "outputs": [
    {
     "name": "stdout",
     "output_type": "stream",
     "text": [
      "<class 'pandas.core.frame.DataFrame'>\n",
      "RangeIndex: 803 entries, 0 to 802\n",
      "Data columns (total 3 columns):\n",
      "week_start          803 non-null datetime64[ns]\n",
      "weekly_incidents    803 non-null int64\n",
      "fisical_year        803 non-null int64\n",
      "dtypes: datetime64[ns](1), int64(2)\n",
      "memory usage: 18.9 KB\n"
     ]
    }
   ],
   "source": [
    "new.head()\n",
    "new.info()"
   ]
  },
  {
   "cell_type": "code",
   "execution_count": 588,
   "metadata": {},
   "outputs": [],
   "source": [
    "new['fisical_year'] = new['week_start'].dt.year"
   ]
  },
  {
   "cell_type": "code",
   "execution_count": 590,
   "metadata": {},
   "outputs": [],
   "source": [
    "#add holiday \n",
    "from datetime import timedelta\n",
    "cal = calendar()\n",
    "\n",
    "holidays = cal.holidays(start = new['week_start'].min(), end = df['week_start'].max()+ timedelta(days=6))"
   ]
  },
  {
   "cell_type": "code",
   "execution_count": 591,
   "metadata": {},
   "outputs": [],
   "source": [
    "holidays = holidays.to_frame(index = False)\n",
    "\n",
    "holidays.columns = ['Date']"
   ]
  },
  {
   "cell_type": "code",
   "execution_count": 592,
   "metadata": {},
   "outputs": [],
   "source": [
    "holidays['week_start'] = holidays['Date'] - pd.to_timedelta(holidays['Date'].dt.weekday, unit='D')"
   ]
  },
  {
   "cell_type": "code",
   "execution_count": 593,
   "metadata": {},
   "outputs": [],
   "source": [
    "holidays =  holidays.groupby(['week_start'])['Date'].count().to_frame('holiday_count').reset_index()"
   ]
  },
  {
   "cell_type": "code",
   "execution_count": 610,
   "metadata": {},
   "outputs": [],
   "source": [
    "df1 = df[df['PdDistrict'] == 'SOUTHERN'].groupby(['week_start'])['IncidntNum'].count().to_frame('southern_dist_weekly_incidents').reset_index()"
   ]
  },
  {
   "cell_type": "code",
   "execution_count": 611,
   "metadata": {},
   "outputs": [],
   "source": [
    "df2 = df[(df['PdDistrict'] == 'SOUTHERN') & (~df['Resolution'].isin(['NONE']))].groupby(['week_start'])['IncidntNum'].count().to_frame('southern_dist_weekly_resolved').reset_index()"
   ]
  },
  {
   "cell_type": "code",
   "execution_count": 612,
   "metadata": {},
   "outputs": [],
   "source": [
    "df1 = df1.set_index('week_start')\n",
    "df2 = df2.set_index('week_start')"
   ]
  },
  {
   "cell_type": "code",
   "execution_count": 619,
   "metadata": {},
   "outputs": [],
   "source": [
    "df1 = df1.shift(1)\n",
    "df2 = df2.shift(1)\n",
    "#df2 = df2.shift(1).fillna(0,inplace = True) "
   ]
  },
  {
   "cell_type": "code",
   "execution_count": 622,
   "metadata": {},
   "outputs": [],
   "source": [
    "southern = pd.merge(left = df1, right = df2, left_on = 'week_start', right_on = 'week_start', how = 'inner')"
   ]
  },
  {
   "cell_type": "code",
   "execution_count": 624,
   "metadata": {},
   "outputs": [],
   "source": [
    "#join southern district\n",
    "new = pd.merge(left = new, right = southern, left_on = 'week_start', right_on = 'week_start', how = 'inner')"
   ]
  },
  {
   "cell_type": "code",
   "execution_count": 637,
   "metadata": {},
   "outputs": [
    {
     "data": {
      "text/html": [
       "<div>\n",
       "<style scoped>\n",
       "    .dataframe tbody tr th:only-of-type {\n",
       "        vertical-align: middle;\n",
       "    }\n",
       "\n",
       "    .dataframe tbody tr th {\n",
       "        vertical-align: top;\n",
       "    }\n",
       "\n",
       "    .dataframe thead th {\n",
       "        text-align: right;\n",
       "    }\n",
       "</style>\n",
       "<table border=\"1\" class=\"dataframe\">\n",
       "  <thead>\n",
       "    <tr style=\"text-align: right;\">\n",
       "      <th></th>\n",
       "      <th>week_start</th>\n",
       "      <th>weekly_incidents</th>\n",
       "      <th>fisical_year</th>\n",
       "      <th>southern_dist_weekly_incidents</th>\n",
       "      <th>southern_dist_weekly_resolved</th>\n",
       "      <th>Fiscal Year</th>\n",
       "      <th>tot_budget</th>\n",
       "      <th>holiday_count</th>\n",
       "    </tr>\n",
       "  </thead>\n",
       "  <tbody>\n",
       "    <tr>\n",
       "      <th>0</th>\n",
       "      <td>2002-12-30</td>\n",
       "      <td>2197</td>\n",
       "      <td>2002</td>\n",
       "      <td>NaN</td>\n",
       "      <td>NaN</td>\n",
       "      <td>NaN</td>\n",
       "      <td>NaN</td>\n",
       "      <td>1.0</td>\n",
       "    </tr>\n",
       "    <tr>\n",
       "      <th>1</th>\n",
       "      <td>2003-01-06</td>\n",
       "      <td>2849</td>\n",
       "      <td>2003</td>\n",
       "      <td>384.0</td>\n",
       "      <td>198.0</td>\n",
       "      <td>NaN</td>\n",
       "      <td>NaN</td>\n",
       "      <td>0.0</td>\n",
       "    </tr>\n",
       "    <tr>\n",
       "      <th>2</th>\n",
       "      <td>2003-01-13</td>\n",
       "      <td>2721</td>\n",
       "      <td>2003</td>\n",
       "      <td>473.0</td>\n",
       "      <td>244.0</td>\n",
       "      <td>NaN</td>\n",
       "      <td>NaN</td>\n",
       "      <td>0.0</td>\n",
       "    </tr>\n",
       "    <tr>\n",
       "      <th>3</th>\n",
       "      <td>2003-01-20</td>\n",
       "      <td>2982</td>\n",
       "      <td>2003</td>\n",
       "      <td>411.0</td>\n",
       "      <td>178.0</td>\n",
       "      <td>NaN</td>\n",
       "      <td>NaN</td>\n",
       "      <td>1.0</td>\n",
       "    </tr>\n",
       "    <tr>\n",
       "      <th>4</th>\n",
       "      <td>2003-01-27</td>\n",
       "      <td>2999</td>\n",
       "      <td>2003</td>\n",
       "      <td>497.0</td>\n",
       "      <td>247.0</td>\n",
       "      <td>NaN</td>\n",
       "      <td>NaN</td>\n",
       "      <td>0.0</td>\n",
       "    </tr>\n",
       "  </tbody>\n",
       "</table>\n",
       "</div>"
      ],
      "text/plain": [
       "  week_start  weekly_incidents  fisical_year  southern_dist_weekly_incidents  \\\n",
       "0 2002-12-30              2197          2002                             NaN   \n",
       "1 2003-01-06              2849          2003                           384.0   \n",
       "2 2003-01-13              2721          2003                           473.0   \n",
       "3 2003-01-20              2982          2003                           411.0   \n",
       "4 2003-01-27              2999          2003                           497.0   \n",
       "\n",
       "   southern_dist_weekly_resolved  Fiscal Year  tot_budget  holiday_count  \n",
       "0                            NaN          NaN         NaN            1.0  \n",
       "1                          198.0          NaN         NaN            0.0  \n",
       "2                          244.0          NaN         NaN            0.0  \n",
       "3                          178.0          NaN         NaN            1.0  \n",
       "4                          247.0          NaN         NaN            0.0  "
      ]
     },
     "execution_count": 637,
     "metadata": {},
     "output_type": "execute_result"
    }
   ],
   "source": [
    "final.head()"
   ]
  },
  {
   "cell_type": "code",
   "execution_count": 627,
   "metadata": {},
   "outputs": [],
   "source": [
    "#now join budget & holiday\n",
    "\n",
    "updated = pd.merge(left = new, right = tot_budget, left_on = 'fisical_year', right_on = 'Fiscal Year', how = 'left')"
   ]
  },
  {
   "cell_type": "code",
   "execution_count": 628,
   "metadata": {},
   "outputs": [],
   "source": [
    "final = pd.merge(left= updated, right = holidays, left_on = 'week_start', right_on = 'week_start', how = 'left')"
   ]
  },
  {
   "cell_type": "code",
   "execution_count": 629,
   "metadata": {},
   "outputs": [
    {
     "name": "stdout",
     "output_type": "stream",
     "text": [
      "<class 'pandas.core.frame.DataFrame'>\n",
      "Int64Index: 803 entries, 0 to 802\n",
      "Data columns (total 8 columns):\n",
      "week_start                        803 non-null datetime64[ns]\n",
      "weekly_incidents                  803 non-null int64\n",
      "fisical_year                      803 non-null int64\n",
      "southern_dist_weekly_incidents    802 non-null float64\n",
      "southern_dist_weekly_resolved     802 non-null float64\n",
      "Fiscal Year                       437 non-null float64\n",
      "tot_budget                        437 non-null float64\n",
      "holiday_count                     153 non-null float64\n",
      "dtypes: datetime64[ns](1), float64(5), int64(2)\n",
      "memory usage: 56.5 KB\n"
     ]
    }
   ],
   "source": [
    "final.info()"
   ]
  },
  {
   "cell_type": "code",
   "execution_count": 630,
   "metadata": {},
   "outputs": [
    {
     "name": "stdout",
     "output_type": "stream",
     "text": [
      "<class 'pandas.core.frame.DataFrame'>\n",
      "Int64Index: 803 entries, 0 to 802\n",
      "Data columns (total 8 columns):\n",
      "week_start                        803 non-null datetime64[ns]\n",
      "weekly_incidents                  803 non-null int64\n",
      "fisical_year                      803 non-null int64\n",
      "southern_dist_weekly_incidents    802 non-null float64\n",
      "southern_dist_weekly_resolved     802 non-null float64\n",
      "Fiscal Year                       437 non-null float64\n",
      "tot_budget                        437 non-null float64\n",
      "holiday_count                     803 non-null float64\n",
      "dtypes: datetime64[ns](1), float64(5), int64(2)\n",
      "memory usage: 56.5 KB\n"
     ]
    }
   ],
   "source": [
    "final.holiday_count.fillna(0, inplace=True)\n",
    "final.info()"
   ]
  },
  {
   "cell_type": "code",
   "execution_count": 634,
   "metadata": {},
   "outputs": [],
   "source": [
    "# add peak hour count \n",
    "friday = df[df['DayOfWeek']=='Friday'].groupby(['week_start'])['IncidntNum'].count().to_frame('friday_incidents').reset_index()\n",
    "\n"
   ]
  },
  {
   "cell_type": "code",
   "execution_count": 635,
   "metadata": {},
   "outputs": [],
   "source": [
    "friday = friday.set_index('week_start')\n",
    "friday = friday.shift(1)"
   ]
  },
  {
   "cell_type": "code",
   "execution_count": 638,
   "metadata": {},
   "outputs": [],
   "source": [
    "final = pd.merge(left= final, right = friday, left_on = 'week_start', right_on = 'week_start', how = 'left')"
   ]
  },
  {
   "cell_type": "code",
   "execution_count": 639,
   "metadata": {},
   "outputs": [],
   "source": [
    "final.friday_incidents.fillna(0, inplace=True)"
   ]
  },
  {
   "cell_type": "code",
   "execution_count": 640,
   "metadata": {},
   "outputs": [],
   "source": [
    "final = final.drop(columns = ['Fiscal Year'])"
   ]
  },
  {
   "cell_type": "code",
   "execution_count": 641,
   "metadata": {},
   "outputs": [],
   "source": [
    "# add seaonality - using one hot encoding as we also will try regression \n",
    "final['quarter'] = final['week_start'].dt.quarter"
   ]
  },
  {
   "cell_type": "code",
   "execution_count": 642,
   "metadata": {},
   "outputs": [],
   "source": [
    "#one hot encoding\n",
    "one_hot = pd.get_dummies(final.quarter, prefix='quarter')\n",
    "final = final.join(one_hot)"
   ]
  },
  {
   "cell_type": "code",
   "execution_count": 643,
   "metadata": {},
   "outputs": [],
   "source": [
    "final = final.drop(columns  = ['quarter'])"
   ]
  },
  {
   "cell_type": "code",
   "execution_count": 644,
   "metadata": {},
   "outputs": [],
   "source": [
    "final['tot_budget'] = final['tot_budget']/1000000"
   ]
  },
  {
   "cell_type": "code",
   "execution_count": 659,
   "metadata": {},
   "outputs": [
    {
     "data": {
      "text/html": [
       "<div>\n",
       "<style scoped>\n",
       "    .dataframe tbody tr th:only-of-type {\n",
       "        vertical-align: middle;\n",
       "    }\n",
       "\n",
       "    .dataframe tbody tr th {\n",
       "        vertical-align: top;\n",
       "    }\n",
       "\n",
       "    .dataframe thead th {\n",
       "        text-align: right;\n",
       "    }\n",
       "</style>\n",
       "<table border=\"1\" class=\"dataframe\">\n",
       "  <thead>\n",
       "    <tr style=\"text-align: right;\">\n",
       "      <th></th>\n",
       "      <th>week_start</th>\n",
       "      <th>weekly_incidents</th>\n",
       "      <th>fisical_year</th>\n",
       "      <th>southern_dist_weekly_incidents</th>\n",
       "      <th>southern_dist_weekly_resolved</th>\n",
       "      <th>tot_budget</th>\n",
       "      <th>holiday_count</th>\n",
       "      <th>friday_incidents</th>\n",
       "      <th>quarter_1</th>\n",
       "      <th>quarter_2</th>\n",
       "      <th>quarter_3</th>\n",
       "      <th>quarter_4</th>\n",
       "    </tr>\n",
       "  </thead>\n",
       "  <tbody>\n",
       "    <tr>\n",
       "      <th>798</th>\n",
       "      <td>2018-04-16</td>\n",
       "      <td>2397</td>\n",
       "      <td>2018</td>\n",
       "      <td>485.0</td>\n",
       "      <td>126.0</td>\n",
       "      <td>385.567378</td>\n",
       "      <td>0.0</td>\n",
       "      <td>445.0</td>\n",
       "      <td>0</td>\n",
       "      <td>1</td>\n",
       "      <td>0</td>\n",
       "      <td>0</td>\n",
       "    </tr>\n",
       "    <tr>\n",
       "      <th>799</th>\n",
       "      <td>2018-04-23</td>\n",
       "      <td>2395</td>\n",
       "      <td>2018</td>\n",
       "      <td>432.0</td>\n",
       "      <td>113.0</td>\n",
       "      <td>385.567378</td>\n",
       "      <td>0.0</td>\n",
       "      <td>379.0</td>\n",
       "      <td>0</td>\n",
       "      <td>1</td>\n",
       "      <td>0</td>\n",
       "      <td>0</td>\n",
       "    </tr>\n",
       "    <tr>\n",
       "      <th>800</th>\n",
       "      <td>2018-04-30</td>\n",
       "      <td>2187</td>\n",
       "      <td>2018</td>\n",
       "      <td>413.0</td>\n",
       "      <td>96.0</td>\n",
       "      <td>385.567378</td>\n",
       "      <td>0.0</td>\n",
       "      <td>364.0</td>\n",
       "      <td>0</td>\n",
       "      <td>1</td>\n",
       "      <td>0</td>\n",
       "      <td>0</td>\n",
       "    </tr>\n",
       "    <tr>\n",
       "      <th>801</th>\n",
       "      <td>2018-05-07</td>\n",
       "      <td>1668</td>\n",
       "      <td>2018</td>\n",
       "      <td>482.0</td>\n",
       "      <td>117.0</td>\n",
       "      <td>385.567378</td>\n",
       "      <td>0.0</td>\n",
       "      <td>336.0</td>\n",
       "      <td>0</td>\n",
       "      <td>1</td>\n",
       "      <td>0</td>\n",
       "      <td>0</td>\n",
       "    </tr>\n",
       "    <tr>\n",
       "      <th>802</th>\n",
       "      <td>2018-05-14</td>\n",
       "      <td>89</td>\n",
       "      <td>2018</td>\n",
       "      <td>293.0</td>\n",
       "      <td>116.0</td>\n",
       "      <td>385.567378</td>\n",
       "      <td>0.0</td>\n",
       "      <td>0.0</td>\n",
       "      <td>0</td>\n",
       "      <td>1</td>\n",
       "      <td>0</td>\n",
       "      <td>0</td>\n",
       "    </tr>\n",
       "  </tbody>\n",
       "</table>\n",
       "</div>"
      ],
      "text/plain": [
       "    week_start  weekly_incidents  fisical_year  \\\n",
       "798 2018-04-16              2397          2018   \n",
       "799 2018-04-23              2395          2018   \n",
       "800 2018-04-30              2187          2018   \n",
       "801 2018-05-07              1668          2018   \n",
       "802 2018-05-14                89          2018   \n",
       "\n",
       "     southern_dist_weekly_incidents  southern_dist_weekly_resolved  \\\n",
       "798                           485.0                          126.0   \n",
       "799                           432.0                          113.0   \n",
       "800                           413.0                           96.0   \n",
       "801                           482.0                          117.0   \n",
       "802                           293.0                          116.0   \n",
       "\n",
       "     tot_budget  holiday_count  friday_incidents  quarter_1  quarter_2  \\\n",
       "798  385.567378            0.0             445.0          0          1   \n",
       "799  385.567378            0.0             379.0          0          1   \n",
       "800  385.567378            0.0             364.0          0          1   \n",
       "801  385.567378            0.0             336.0          0          1   \n",
       "802  385.567378            0.0               0.0          0          1   \n",
       "\n",
       "     quarter_3  quarter_4  \n",
       "798          0          0  \n",
       "799          0          0  \n",
       "800          0          0  \n",
       "801          0          0  \n",
       "802          0          0  "
      ]
     },
     "execution_count": 659,
     "metadata": {},
     "output_type": "execute_result"
    }
   ],
   "source": [
    "#Now check final dataset\n",
    "final.tail()"
   ]
  },
  {
   "cell_type": "code",
   "execution_count": 42,
   "metadata": {},
   "outputs": [
    {
     "data": {
      "text/plain": [
       "2010"
      ]
     },
     "execution_count": 42,
     "metadata": {},
     "output_type": "execute_result"
    }
   ],
   "source": [
    "\n",
    "min(tot_budget['Fiscal Year'])"
   ]
  },
  {
   "cell_type": "markdown",
   "metadata": {},
   "source": [
    "##### Since budget only has data from 2010, we will use 2010 - 2016 as training window, 2017 - 2018 as validation.\n",
    "##### Note that May 2018 data is also abnormal. We will drop May 2018 data as well."
   ]
  },
  {
   "cell_type": "code",
   "execution_count": 646,
   "metadata": {},
   "outputs": [],
   "source": [
    "train = final[(final['fisical_year'] >= 2010)&(final['fisical_year'] <= 2016)]\n"
   ]
  },
  {
   "cell_type": "code",
   "execution_count": 647,
   "metadata": {},
   "outputs": [],
   "source": [
    "validation = final[(final['fisical_year'] >= 2017) & (final['week_start'] <= '2018-04-30')]"
   ]
  },
  {
   "cell_type": "code",
   "execution_count": 648,
   "metadata": {},
   "outputs": [
    {
     "data": {
      "text/html": [
       "<div>\n",
       "<style scoped>\n",
       "    .dataframe tbody tr th:only-of-type {\n",
       "        vertical-align: middle;\n",
       "    }\n",
       "\n",
       "    .dataframe tbody tr th {\n",
       "        vertical-align: top;\n",
       "    }\n",
       "\n",
       "    .dataframe thead th {\n",
       "        text-align: right;\n",
       "    }\n",
       "</style>\n",
       "<table border=\"1\" class=\"dataframe\">\n",
       "  <thead>\n",
       "    <tr style=\"text-align: right;\">\n",
       "      <th></th>\n",
       "      <th>week_start</th>\n",
       "      <th>weekly_incidents</th>\n",
       "      <th>fisical_year</th>\n",
       "      <th>southern_dist_weekly_incidents</th>\n",
       "      <th>southern_dist_weekly_resolved</th>\n",
       "      <th>tot_budget</th>\n",
       "      <th>holiday_count</th>\n",
       "      <th>friday_incidents</th>\n",
       "      <th>quarter_1</th>\n",
       "      <th>quarter_2</th>\n",
       "      <th>quarter_3</th>\n",
       "      <th>quarter_4</th>\n",
       "    </tr>\n",
       "  </thead>\n",
       "  <tbody>\n",
       "    <tr>\n",
       "      <th>796</th>\n",
       "      <td>2018-04-02</td>\n",
       "      <td>2356</td>\n",
       "      <td>2018</td>\n",
       "      <td>478.0</td>\n",
       "      <td>127.0</td>\n",
       "      <td>385.567378</td>\n",
       "      <td>0.0</td>\n",
       "      <td>380.0</td>\n",
       "      <td>0</td>\n",
       "      <td>1</td>\n",
       "      <td>0</td>\n",
       "      <td>0</td>\n",
       "    </tr>\n",
       "    <tr>\n",
       "      <th>797</th>\n",
       "      <td>2018-04-09</td>\n",
       "      <td>2531</td>\n",
       "      <td>2018</td>\n",
       "      <td>415.0</td>\n",
       "      <td>91.0</td>\n",
       "      <td>385.567378</td>\n",
       "      <td>0.0</td>\n",
       "      <td>366.0</td>\n",
       "      <td>0</td>\n",
       "      <td>1</td>\n",
       "      <td>0</td>\n",
       "      <td>0</td>\n",
       "    </tr>\n",
       "    <tr>\n",
       "      <th>798</th>\n",
       "      <td>2018-04-16</td>\n",
       "      <td>2397</td>\n",
       "      <td>2018</td>\n",
       "      <td>485.0</td>\n",
       "      <td>126.0</td>\n",
       "      <td>385.567378</td>\n",
       "      <td>0.0</td>\n",
       "      <td>445.0</td>\n",
       "      <td>0</td>\n",
       "      <td>1</td>\n",
       "      <td>0</td>\n",
       "      <td>0</td>\n",
       "    </tr>\n",
       "    <tr>\n",
       "      <th>799</th>\n",
       "      <td>2018-04-23</td>\n",
       "      <td>2395</td>\n",
       "      <td>2018</td>\n",
       "      <td>432.0</td>\n",
       "      <td>113.0</td>\n",
       "      <td>385.567378</td>\n",
       "      <td>0.0</td>\n",
       "      <td>379.0</td>\n",
       "      <td>0</td>\n",
       "      <td>1</td>\n",
       "      <td>0</td>\n",
       "      <td>0</td>\n",
       "    </tr>\n",
       "    <tr>\n",
       "      <th>800</th>\n",
       "      <td>2018-04-30</td>\n",
       "      <td>2187</td>\n",
       "      <td>2018</td>\n",
       "      <td>413.0</td>\n",
       "      <td>96.0</td>\n",
       "      <td>385.567378</td>\n",
       "      <td>0.0</td>\n",
       "      <td>364.0</td>\n",
       "      <td>0</td>\n",
       "      <td>1</td>\n",
       "      <td>0</td>\n",
       "      <td>0</td>\n",
       "    </tr>\n",
       "  </tbody>\n",
       "</table>\n",
       "</div>"
      ],
      "text/plain": [
       "    week_start  weekly_incidents  fisical_year  \\\n",
       "796 2018-04-02              2356          2018   \n",
       "797 2018-04-09              2531          2018   \n",
       "798 2018-04-16              2397          2018   \n",
       "799 2018-04-23              2395          2018   \n",
       "800 2018-04-30              2187          2018   \n",
       "\n",
       "     southern_dist_weekly_incidents  southern_dist_weekly_resolved  \\\n",
       "796                           478.0                          127.0   \n",
       "797                           415.0                           91.0   \n",
       "798                           485.0                          126.0   \n",
       "799                           432.0                          113.0   \n",
       "800                           413.0                           96.0   \n",
       "\n",
       "     tot_budget  holiday_count  friday_incidents  quarter_1  quarter_2  \\\n",
       "796  385.567378            0.0             380.0          0          1   \n",
       "797  385.567378            0.0             366.0          0          1   \n",
       "798  385.567378            0.0             445.0          0          1   \n",
       "799  385.567378            0.0             379.0          0          1   \n",
       "800  385.567378            0.0             364.0          0          1   \n",
       "\n",
       "     quarter_3  quarter_4  \n",
       "796          0          0  \n",
       "797          0          0  \n",
       "798          0          0  \n",
       "799          0          0  \n",
       "800          0          0  "
      ]
     },
     "execution_count": 648,
     "metadata": {},
     "output_type": "execute_result"
    }
   ],
   "source": [
    "train.shape,\n",
    "validation.shape\n",
    "validation.tail()"
   ]
  },
  {
   "cell_type": "markdown",
   "metadata": {},
   "source": [
    "#### Stationary Check"
   ]
  },
  {
   "cell_type": "code",
   "execution_count": 250,
   "metadata": {},
   "outputs": [
    {
     "name": "stdout",
     "output_type": "stream",
     "text": [
      "ADF Statistic: -2.528276168345844\n",
      "p-value: 0.1087451203259247\n",
      "Critial Values:\n",
      "   1%, -3.448853029339765\n",
      "Critial Values:\n",
      "   5%, -2.869693115704379\n",
      "Critial Values:\n",
      "   10%, -2.571113512498422\n"
     ]
    }
   ],
   "source": [
    "from statsmodels.tsa.stattools import adfuller, kpss\n",
    "\n",
    "# ADF Test\n",
    "result = adfuller(train.weekly_incidents, autolag='AIC')\n",
    "print(f'ADF Statistic: {result[0]}')\n",
    "print(f'p-value: {result[1]}')\n",
    "for key, value in result[4].items():\n",
    "    print('Critial Values:')\n",
    "    print(f'   {key}, {value}')\n"
   ]
  },
  {
   "cell_type": "code",
   "execution_count": 251,
   "metadata": {},
   "outputs": [
    {
     "name": "stdout",
     "output_type": "stream",
     "text": [
      "\n",
      "KPSS Statistic: 1.510130\n",
      "p-value: 0.010000\n",
      "Critial Values:\n",
      "   10%, 0.347\n",
      "Critial Values:\n",
      "   5%, 0.463\n",
      "Critial Values:\n",
      "   2.5%, 0.574\n",
      "Critial Values:\n",
      "   1%, 0.739\n"
     ]
    },
    {
     "name": "stderr",
     "output_type": "stream",
     "text": [
      "/anaconda3/lib/python3.7/site-packages/statsmodels/tsa/stattools.py:1276: InterpolationWarning: p-value is smaller than the indicated p-value\n",
      "  warn(\"p-value is smaller than the indicated p-value\", InterpolationWarning)\n"
     ]
    }
   ],
   "source": [
    "\n",
    "# KPSS Test\n",
    "result = kpss(train.weekly_incidents, regression='c')\n",
    "print('\\nKPSS Statistic: %f' % result[0])\n",
    "print('p-value: %f' % result[1])\n",
    "for key, value in result[3].items():\n",
    "    print('Critial Values:')\n",
    "    print(f'   {key}, {value}')"
   ]
  },
  {
   "cell_type": "code",
   "execution_count": 649,
   "metadata": {},
   "outputs": [],
   "source": [
    "#indexing \n",
    "\n",
    "train= train.set_index('week_start')\n",
    "train = train.sort_values('week_start')\n",
    "\n",
    "\n",
    "validation = validation.set_index('week_start')\n",
    "validation = validation.sort_values('week_start')"
   ]
  },
  {
   "cell_type": "code",
   "execution_count": 430,
   "metadata": {},
   "outputs": [
    {
     "data": {
      "text/html": [
       "<div>\n",
       "<style scoped>\n",
       "    .dataframe tbody tr th:only-of-type {\n",
       "        vertical-align: middle;\n",
       "    }\n",
       "\n",
       "    .dataframe tbody tr th {\n",
       "        vertical-align: top;\n",
       "    }\n",
       "\n",
       "    .dataframe thead th {\n",
       "        text-align: right;\n",
       "    }\n",
       "</style>\n",
       "<table border=\"1\" class=\"dataframe\">\n",
       "  <thead>\n",
       "    <tr style=\"text-align: right;\">\n",
       "      <th></th>\n",
       "      <th>weekly_incidents</th>\n",
       "      <th>fisical_year</th>\n",
       "      <th>southern_dist_weekly_incidents</th>\n",
       "      <th>southern_dist_weekly_resolved</th>\n",
       "      <th>tot_budget</th>\n",
       "      <th>holiday_count</th>\n",
       "      <th>friday_incidents</th>\n",
       "      <th>quarter_1</th>\n",
       "      <th>quarter_2</th>\n",
       "      <th>quarter_3</th>\n",
       "      <th>quarter_4</th>\n",
       "    </tr>\n",
       "    <tr>\n",
       "      <th>week_start</th>\n",
       "      <th></th>\n",
       "      <th></th>\n",
       "      <th></th>\n",
       "      <th></th>\n",
       "      <th></th>\n",
       "      <th></th>\n",
       "      <th></th>\n",
       "      <th></th>\n",
       "      <th></th>\n",
       "      <th></th>\n",
       "      <th></th>\n",
       "    </tr>\n",
       "  </thead>\n",
       "  <tbody>\n",
       "    <tr>\n",
       "      <th>2010-01-04</th>\n",
       "      <td>2441</td>\n",
       "      <td>2010</td>\n",
       "      <td>447</td>\n",
       "      <td>165</td>\n",
       "      <td>322.576479</td>\n",
       "      <td>0.0</td>\n",
       "      <td>356.0</td>\n",
       "      <td>1</td>\n",
       "      <td>0</td>\n",
       "      <td>0</td>\n",
       "      <td>0</td>\n",
       "    </tr>\n",
       "    <tr>\n",
       "      <th>2010-01-11</th>\n",
       "      <td>2692</td>\n",
       "      <td>2010</td>\n",
       "      <td>482</td>\n",
       "      <td>185</td>\n",
       "      <td>322.576479</td>\n",
       "      <td>0.0</td>\n",
       "      <td>454.0</td>\n",
       "      <td>1</td>\n",
       "      <td>0</td>\n",
       "      <td>0</td>\n",
       "      <td>0</td>\n",
       "    </tr>\n",
       "    <tr>\n",
       "      <th>2010-01-18</th>\n",
       "      <td>2457</td>\n",
       "      <td>2010</td>\n",
       "      <td>380</td>\n",
       "      <td>157</td>\n",
       "      <td>322.576479</td>\n",
       "      <td>1.0</td>\n",
       "      <td>387.0</td>\n",
       "      <td>1</td>\n",
       "      <td>0</td>\n",
       "      <td>0</td>\n",
       "      <td>0</td>\n",
       "    </tr>\n",
       "    <tr>\n",
       "      <th>2010-01-25</th>\n",
       "      <td>2487</td>\n",
       "      <td>2010</td>\n",
       "      <td>457</td>\n",
       "      <td>188</td>\n",
       "      <td>322.576479</td>\n",
       "      <td>0.0</td>\n",
       "      <td>373.0</td>\n",
       "      <td>1</td>\n",
       "      <td>0</td>\n",
       "      <td>0</td>\n",
       "      <td>0</td>\n",
       "    </tr>\n",
       "    <tr>\n",
       "      <th>2010-02-01</th>\n",
       "      <td>2630</td>\n",
       "      <td>2010</td>\n",
       "      <td>491</td>\n",
       "      <td>229</td>\n",
       "      <td>322.576479</td>\n",
       "      <td>0.0</td>\n",
       "      <td>410.0</td>\n",
       "      <td>1</td>\n",
       "      <td>0</td>\n",
       "      <td>0</td>\n",
       "      <td>0</td>\n",
       "    </tr>\n",
       "  </tbody>\n",
       "</table>\n",
       "</div>"
      ],
      "text/plain": [
       "            weekly_incidents  fisical_year  southern_dist_weekly_incidents  \\\n",
       "week_start                                                                   \n",
       "2010-01-04              2441          2010                             447   \n",
       "2010-01-11              2692          2010                             482   \n",
       "2010-01-18              2457          2010                             380   \n",
       "2010-01-25              2487          2010                             457   \n",
       "2010-02-01              2630          2010                             491   \n",
       "\n",
       "            southern_dist_weekly_resolved  tot_budget  holiday_count  \\\n",
       "week_start                                                             \n",
       "2010-01-04                            165  322.576479            0.0   \n",
       "2010-01-11                            185  322.576479            0.0   \n",
       "2010-01-18                            157  322.576479            1.0   \n",
       "2010-01-25                            188  322.576479            0.0   \n",
       "2010-02-01                            229  322.576479            0.0   \n",
       "\n",
       "            friday_incidents  quarter_1  quarter_2  quarter_3  quarter_4  \n",
       "week_start                                                                \n",
       "2010-01-04             356.0          1          0          0          0  \n",
       "2010-01-11             454.0          1          0          0          0  \n",
       "2010-01-18             387.0          1          0          0          0  \n",
       "2010-01-25             373.0          1          0          0          0  \n",
       "2010-02-01             410.0          1          0          0          0  "
      ]
     },
     "execution_count": 430,
     "metadata": {},
     "output_type": "execute_result"
    }
   ],
   "source": [
    "train.head()"
   ]
  },
  {
   "cell_type": "markdown",
   "metadata": {},
   "source": [
    "### Linear Regression"
   ]
  },
  {
   "cell_type": "code",
   "execution_count": 145,
   "metadata": {},
   "outputs": [],
   "source": [
    "from sklearn.linear_model import LinearRegression\n",
    "from sklearn.model_selection import cross_val_score"
   ]
  },
  {
   "cell_type": "code",
   "execution_count": 650,
   "metadata": {},
   "outputs": [],
   "source": [
    "y_train = train.weekly_incidents\n",
    "x_train = train.drop(columns = ['weekly_incidents'])"
   ]
  },
  {
   "cell_type": "code",
   "execution_count": 651,
   "metadata": {},
   "outputs": [],
   "source": [
    "x_test = validation.drop(columns = ['weekly_incidents'])\n",
    "y_test = validation.weekly_incidents"
   ]
  },
  {
   "cell_type": "code",
   "execution_count": 652,
   "metadata": {},
   "outputs": [
    {
     "data": {
      "text/plain": [
       "LinearRegression(copy_X=True, fit_intercept=True, n_jobs=None,\n",
       "         normalize=False)"
      ]
     },
     "execution_count": 652,
     "metadata": {},
     "output_type": "execute_result"
    }
   ],
   "source": [
    "lr = LinearRegression()\n",
    "lr.fit(x_train, y_train)"
   ]
  },
  {
   "cell_type": "code",
   "execution_count": 653,
   "metadata": {},
   "outputs": [
    {
     "data": {
      "text/html": [
       "<div>\n",
       "<style scoped>\n",
       "    .dataframe tbody tr th:only-of-type {\n",
       "        vertical-align: middle;\n",
       "    }\n",
       "\n",
       "    .dataframe tbody tr th {\n",
       "        vertical-align: top;\n",
       "    }\n",
       "\n",
       "    .dataframe thead th {\n",
       "        text-align: right;\n",
       "    }\n",
       "</style>\n",
       "<table border=\"1\" class=\"dataframe\">\n",
       "  <thead>\n",
       "    <tr style=\"text-align: right;\">\n",
       "      <th></th>\n",
       "      <th>Coefficient</th>\n",
       "    </tr>\n",
       "  </thead>\n",
       "  <tbody>\n",
       "    <tr>\n",
       "      <th>fisical_year</th>\n",
       "      <td>57.759880</td>\n",
       "    </tr>\n",
       "    <tr>\n",
       "      <th>southern_dist_weekly_incidents</th>\n",
       "      <td>1.402717</td>\n",
       "    </tr>\n",
       "    <tr>\n",
       "      <th>southern_dist_weekly_resolved</th>\n",
       "      <td>-0.459476</td>\n",
       "    </tr>\n",
       "    <tr>\n",
       "      <th>tot_budget</th>\n",
       "      <td>-1.915940</td>\n",
       "    </tr>\n",
       "    <tr>\n",
       "      <th>holiday_count</th>\n",
       "      <td>-59.595536</td>\n",
       "    </tr>\n",
       "    <tr>\n",
       "      <th>friday_incidents</th>\n",
       "      <td>0.667222</td>\n",
       "    </tr>\n",
       "    <tr>\n",
       "      <th>quarter_1</th>\n",
       "      <td>22.238511</td>\n",
       "    </tr>\n",
       "    <tr>\n",
       "      <th>quarter_2</th>\n",
       "      <td>-10.949569</td>\n",
       "    </tr>\n",
       "    <tr>\n",
       "      <th>quarter_3</th>\n",
       "      <td>0.170677</td>\n",
       "    </tr>\n",
       "    <tr>\n",
       "      <th>quarter_4</th>\n",
       "      <td>-11.459619</td>\n",
       "    </tr>\n",
       "  </tbody>\n",
       "</table>\n",
       "</div>"
      ],
      "text/plain": [
       "                                Coefficient\n",
       "fisical_year                      57.759880\n",
       "southern_dist_weekly_incidents     1.402717\n",
       "southern_dist_weekly_resolved     -0.459476\n",
       "tot_budget                        -1.915940\n",
       "holiday_count                    -59.595536\n",
       "friday_incidents                   0.667222\n",
       "quarter_1                         22.238511\n",
       "quarter_2                        -10.949569\n",
       "quarter_3                          0.170677\n",
       "quarter_4                        -11.459619"
      ]
     },
     "execution_count": 653,
     "metadata": {},
     "output_type": "execute_result"
    }
   ],
   "source": [
    "coeff_df = pd.DataFrame(lr.coef_, x_train.columns, columns=['Coefficient'])  \n",
    "coeff_df"
   ]
  },
  {
   "cell_type": "code",
   "execution_count": 654,
   "metadata": {},
   "outputs": [],
   "source": [
    "y_pred = lr.predict(x_test)\n"
   ]
  },
  {
   "cell_type": "code",
   "execution_count": 655,
   "metadata": {},
   "outputs": [],
   "source": [
    "df = pd.DataFrame({'Actual': y_test, 'Predicted': y_pred})\n",
    "df1 = df.tail(40)"
   ]
  },
  {
   "cell_type": "code",
   "execution_count": 656,
   "metadata": {},
   "outputs": [
    {
     "data": {
      "image/png": "[encoded data removed]",
      "text/plain": [
       "<Figure size 720x576 with 1 Axes>"
      ]
     },
     "metadata": {
      "needs_background": "light"
     },
     "output_type": "display_data"
    }
   ],
   "source": [
    "df1.plot(kind='bar',figsize=(10,8))\n",
    "plt.grid(which='major', linestyle='-', linewidth='0.5', color='green')\n",
    "plt.grid(which='minor', linestyle=':', linewidth='0.5', color='black')\n",
    "plt.show()"
   ]
  },
  {
   "cell_type": "code",
   "execution_count": 657,
   "metadata": {},
   "outputs": [
    {
     "name": "stdout",
     "output_type": "stream",
     "text": [
      "Mean Absolute Error: 183.01565532884624\n",
      "Mean Squared Error: 61002.18536946078\n",
      "Root Mean Squared Error: 246.98620481610055\n",
      "R2 score:  -0.023761510727822177\n"
     ]
    }
   ],
   "source": [
    "from sklearn import metrics\n",
    "from sklearn.metrics import mean_squared_error, r2_score\n",
    "print('Mean Absolute Error:', metrics.mean_absolute_error(y_test, y_pred))  \n",
    "print('Mean Squared Error:', metrics.mean_squared_error(y_test, y_pred))  \n",
    "print('Root Mean Squared Error:', np.sqrt(metrics.mean_squared_error(y_test, y_pred)))\n",
    "print('R2 score: ', r2_score(y_test, y_pred))\n"
   ]
  },
  {
   "cell_type": "code",
   "execution_count": 261,
   "metadata": {},
   "outputs": [],
   "source": [
    "def plotCoefficients(model):\n",
    "    \"\"\"\n",
    "        Plots sorted coefficient values of the model\n",
    "    \"\"\"\n",
    "    \n",
    "    coefs = pd.DataFrame(model.coef_, x_train.columns)\n",
    "    coefs.columns = [\"coef\"]\n",
    "    coefs[\"abs\"] = coefs.coef.apply(np.abs)\n",
    "    coefs = coefs.sort_values(by=\"abs\", ascending=False).drop([\"abs\"], axis=1)\n",
    "    \n",
    "    plt.figure(figsize=(15, 7))\n",
    "    coefs.coef.plot(kind='bar')\n",
    "    plt.grid(True, axis='y')\n",
    "    plt.hlines(y=0, xmin=0, xmax=len(coefs), linestyles='dashed');"
   ]
  },
  {
   "cell_type": "code",
   "execution_count": 658,
   "metadata": {},
   "outputs": [
    {
     "data": {
      "image/png": "[encoded data removed]",
      "text/plain": [
       "<Figure size 1080x504 with 1 Axes>"
      ]
     },
     "metadata": {
      "needs_background": "light"
     },
     "output_type": "display_data"
    }
   ],
   "source": [
    "plotCoefficients(lr)"
   ]
  },
  {
   "cell_type": "markdown",
   "metadata": {},
   "source": [
    "### Linear Regression (With Time Lag)"
   ]
  },
  {
   "cell_type": "code",
   "execution_count": 660,
   "metadata": {},
   "outputs": [],
   "source": [
    "# Adding the lag of the target variable from 6 steps back up to 24\n",
    "final2 = final\n",
    "for i in range(6, 25):\n",
    "    final2[\"lag_{}\".format(i)] = final2.weekly_incidents.shift(i)"
   ]
  },
  {
   "cell_type": "code",
   "execution_count": 661,
   "metadata": {},
   "outputs": [],
   "source": [
    "train2 = final2[(final2['fisical_year'] >= 2010)&(final2['fisical_year'] <= 2016)]\n",
    "validation2 = final2[(final2['fisical_year'] >= 2017)&(final['week_start'] <= '2018-04-30')]"
   ]
  },
  {
   "cell_type": "code",
   "execution_count": 662,
   "metadata": {},
   "outputs": [],
   "source": [
    "#indexing \n",
    "\n",
    "train2= train2.set_index('week_start')\n",
    "train2 = train2.sort_values('week_start')\n",
    "train2.head()\n",
    "\n",
    "validation2 = validation2.set_index('week_start')\n",
    "validation2 = validation2.sort_values('week_start')"
   ]
  },
  {
   "cell_type": "code",
   "execution_count": 663,
   "metadata": {},
   "outputs": [],
   "source": [
    "y_train2 = train2.weekly_incidents\n",
    "x_train2 = train2.drop(columns = ['weekly_incidents'])"
   ]
  },
  {
   "cell_type": "code",
   "execution_count": 664,
   "metadata": {},
   "outputs": [],
   "source": [
    "x_test2 = validation2.drop(columns = ['weekly_incidents'])\n",
    "y_test2 = validation2.weekly_incidents"
   ]
  },
  {
   "cell_type": "code",
   "execution_count": 665,
   "metadata": {},
   "outputs": [
    {
     "data": {
      "text/plain": [
       "LinearRegression(copy_X=True, fit_intercept=True, n_jobs=None,\n",
       "         normalize=False)"
      ]
     },
     "execution_count": 665,
     "metadata": {},
     "output_type": "execute_result"
    }
   ],
   "source": [
    "lr = LinearRegression()\n",
    "lr.fit(x_train2, y_train2)"
   ]
  },
  {
   "cell_type": "code",
   "execution_count": 666,
   "metadata": {},
   "outputs": [
    {
     "data": {
      "text/html": [
       "<div>\n",
       "<style scoped>\n",
       "    .dataframe tbody tr th:only-of-type {\n",
       "        vertical-align: middle;\n",
       "    }\n",
       "\n",
       "    .dataframe tbody tr th {\n",
       "        vertical-align: top;\n",
       "    }\n",
       "\n",
       "    .dataframe thead th {\n",
       "        text-align: right;\n",
       "    }\n",
       "</style>\n",
       "<table border=\"1\" class=\"dataframe\">\n",
       "  <thead>\n",
       "    <tr style=\"text-align: right;\">\n",
       "      <th></th>\n",
       "      <th>0</th>\n",
       "    </tr>\n",
       "  </thead>\n",
       "  <tbody>\n",
       "    <tr>\n",
       "      <th>fisical_year</th>\n",
       "      <td>33.827220</td>\n",
       "    </tr>\n",
       "    <tr>\n",
       "      <th>southern_dist_weekly_incidents</th>\n",
       "      <td>1.215325</td>\n",
       "    </tr>\n",
       "    <tr>\n",
       "      <th>southern_dist_weekly_resolved</th>\n",
       "      <td>-0.503534</td>\n",
       "    </tr>\n",
       "    <tr>\n",
       "      <th>tot_budget</th>\n",
       "      <td>-1.892645</td>\n",
       "    </tr>\n",
       "    <tr>\n",
       "      <th>holiday_count</th>\n",
       "      <td>-64.191493</td>\n",
       "    </tr>\n",
       "    <tr>\n",
       "      <th>friday_incidents</th>\n",
       "      <td>0.472418</td>\n",
       "    </tr>\n",
       "    <tr>\n",
       "      <th>quarter_1</th>\n",
       "      <td>42.140716</td>\n",
       "    </tr>\n",
       "    <tr>\n",
       "      <th>quarter_2</th>\n",
       "      <td>-7.400186</td>\n",
       "    </tr>\n",
       "    <tr>\n",
       "      <th>quarter_3</th>\n",
       "      <td>8.825907</td>\n",
       "    </tr>\n",
       "    <tr>\n",
       "      <th>quarter_4</th>\n",
       "      <td>-43.566437</td>\n",
       "    </tr>\n",
       "    <tr>\n",
       "      <th>lag_6</th>\n",
       "      <td>0.181802</td>\n",
       "    </tr>\n",
       "    <tr>\n",
       "      <th>lag_7</th>\n",
       "      <td>-0.071292</td>\n",
       "    </tr>\n",
       "    <tr>\n",
       "      <th>lag_8</th>\n",
       "      <td>0.035434</td>\n",
       "    </tr>\n",
       "    <tr>\n",
       "      <th>lag_9</th>\n",
       "      <td>0.145138</td>\n",
       "    </tr>\n",
       "    <tr>\n",
       "      <th>lag_10</th>\n",
       "      <td>-0.004320</td>\n",
       "    </tr>\n",
       "    <tr>\n",
       "      <th>lag_11</th>\n",
       "      <td>0.021382</td>\n",
       "    </tr>\n",
       "    <tr>\n",
       "      <th>lag_12</th>\n",
       "      <td>-0.034472</td>\n",
       "    </tr>\n",
       "    <tr>\n",
       "      <th>lag_13</th>\n",
       "      <td>0.053020</td>\n",
       "    </tr>\n",
       "    <tr>\n",
       "      <th>lag_14</th>\n",
       "      <td>-0.028993</td>\n",
       "    </tr>\n",
       "    <tr>\n",
       "      <th>lag_15</th>\n",
       "      <td>-0.096529</td>\n",
       "    </tr>\n",
       "    <tr>\n",
       "      <th>lag_16</th>\n",
       "      <td>0.128875</td>\n",
       "    </tr>\n",
       "    <tr>\n",
       "      <th>lag_17</th>\n",
       "      <td>0.019419</td>\n",
       "    </tr>\n",
       "    <tr>\n",
       "      <th>lag_18</th>\n",
       "      <td>0.038093</td>\n",
       "    </tr>\n",
       "    <tr>\n",
       "      <th>lag_19</th>\n",
       "      <td>-0.020240</td>\n",
       "    </tr>\n",
       "    <tr>\n",
       "      <th>lag_20</th>\n",
       "      <td>-0.028671</td>\n",
       "    </tr>\n",
       "    <tr>\n",
       "      <th>lag_21</th>\n",
       "      <td>0.002385</td>\n",
       "    </tr>\n",
       "    <tr>\n",
       "      <th>lag_22</th>\n",
       "      <td>0.000041</td>\n",
       "    </tr>\n",
       "    <tr>\n",
       "      <th>lag_23</th>\n",
       "      <td>-0.021209</td>\n",
       "    </tr>\n",
       "    <tr>\n",
       "      <th>lag_24</th>\n",
       "      <td>0.079217</td>\n",
       "    </tr>\n",
       "  </tbody>\n",
       "</table>\n",
       "</div>"
      ],
      "text/plain": [
       "                                        0\n",
       "fisical_year                    33.827220\n",
       "southern_dist_weekly_incidents   1.215325\n",
       "southern_dist_weekly_resolved   -0.503534\n",
       "tot_budget                      -1.892645\n",
       "holiday_count                  -64.191493\n",
       "friday_incidents                 0.472418\n",
       "quarter_1                       42.140716\n",
       "quarter_2                       -7.400186\n",
       "quarter_3                        8.825907\n",
       "quarter_4                      -43.566437\n",
       "lag_6                            0.181802\n",
       "lag_7                           -0.071292\n",
       "lag_8                            0.035434\n",
       "lag_9                            0.145138\n",
       "lag_10                          -0.004320\n",
       "lag_11                           0.021382\n",
       "lag_12                          -0.034472\n",
       "lag_13                           0.053020\n",
       "lag_14                          -0.028993\n",
       "lag_15                          -0.096529\n",
       "lag_16                           0.128875\n",
       "lag_17                           0.019419\n",
       "lag_18                           0.038093\n",
       "lag_19                          -0.020240\n",
       "lag_20                          -0.028671\n",
       "lag_21                           0.002385\n",
       "lag_22                           0.000041\n",
       "lag_23                          -0.021209\n",
       "lag_24                           0.079217"
      ]
     },
     "execution_count": 666,
     "metadata": {},
     "output_type": "execute_result"
    }
   ],
   "source": [
    "coefs = pd.DataFrame(lr.coef_, x_train2.columns)\n",
    "coefs"
   ]
  },
  {
   "cell_type": "code",
   "execution_count": 667,
   "metadata": {},
   "outputs": [],
   "source": [
    "y_pred2 = lr.predict(x_test2)\n"
   ]
  },
  {
   "cell_type": "code",
   "execution_count": 668,
   "metadata": {},
   "outputs": [],
   "source": [
    "df = pd.DataFrame({'Actual': y_test2, 'Predicted': y_pred2})\n",
    "df1 = df.tail(40)"
   ]
  },
  {
   "cell_type": "code",
   "execution_count": 669,
   "metadata": {
    "scrolled": true
   },
   "outputs": [
    {
     "data": {
      "image/png": "[encoded data removed]",
      "text/plain": [
       "<Figure size 720x576 with 1 Axes>"
      ]
     },
     "metadata": {
      "needs_background": "light"
     },
     "output_type": "display_data"
    }
   ],
   "source": [
    "df1.plot(kind='bar',figsize=(10,8))\n",
    "plt.grid(which='major', linestyle='-', linewidth='0.5', color='green')\n",
    "plt.grid(which='minor', linestyle=':', linewidth='0.5', color='black')\n",
    "plt.show()"
   ]
  },
  {
   "cell_type": "code",
   "execution_count": 670,
   "metadata": {},
   "outputs": [
    {
     "name": "stdout",
     "output_type": "stream",
     "text": [
      "Mean Absolute Error: 160.26237859501146\n",
      "Mean Squared Error: 42799.643502078194\n",
      "Root Mean Squared Error: 206.88074705510465\n",
      "R2 score:  0.2817203609194715\n"
     ]
    }
   ],
   "source": [
    "\n",
    "print('Mean Absolute Error:', metrics.mean_absolute_error(y_test2, y_pred2))  \n",
    "print('Mean Squared Error:', metrics.mean_squared_error(y_test2, y_pred2))  \n",
    "print('Root Mean Squared Error:', np.sqrt(metrics.mean_squared_error(y_test2, y_pred2)))\n",
    "print('R2 score: ', r2_score(y_test2, y_pred2))\n"
   ]
  },
  {
   "cell_type": "code",
   "execution_count": 459,
   "metadata": {},
   "outputs": [],
   "source": [
    "#plotCoefficients(lr)"
   ]
  },
  {
   "cell_type": "markdown",
   "metadata": {},
   "source": [
    "### XGBoost"
   ]
  },
  {
   "cell_type": "code",
   "execution_count": 1,
   "metadata": {},
   "outputs": [],
   "source": [
    "from xgboost import XGBRegressor \n"
   ]
  },
  {
   "cell_type": "code",
   "execution_count": 671,
   "metadata": {},
   "outputs": [
    {
     "data": {
      "text/plain": [
       "XGBRegressor(base_score=0.5, booster='gbtree', colsample_bylevel=1,\n",
       "       colsample_bytree=1, gamma=0, learning_rate=0.1, max_delta_step=0,\n",
       "       max_depth=3, min_child_weight=1, missing=None, n_estimators=100,\n",
       "       n_jobs=1, nthread=None, objective='reg:linear', random_state=0,\n",
       "       reg_alpha=0, reg_lambda=1, scale_pos_weight=1, seed=None,\n",
       "       silent=True, subsample=1)"
      ]
     },
     "execution_count": 671,
     "metadata": {},
     "output_type": "execute_result"
    }
   ],
   "source": [
    "xgb = XGBRegressor()\n",
    "xgb.fit(x_train, y_train)"
   ]
  },
  {
   "cell_type": "code",
   "execution_count": 672,
   "metadata": {},
   "outputs": [],
   "source": [
    "x_test = validation.drop(columns = ['weekly_incidents'])\n",
    "y_test = validation.weekly_incidents"
   ]
  },
  {
   "cell_type": "code",
   "execution_count": 673,
   "metadata": {},
   "outputs": [],
   "source": [
    "y_pred = xgb.predict(x_test)\n"
   ]
  },
  {
   "cell_type": "code",
   "execution_count": 674,
   "metadata": {},
   "outputs": [],
   "source": [
    "df = pd.DataFrame({'Actual': y_test, 'Predicted': y_pred})\n",
    "df1 = df.tail(40)"
   ]
  },
  {
   "cell_type": "code",
   "execution_count": 675,
   "metadata": {},
   "outputs": [
    {
     "data": {
      "image/png": "[encoded data removed]",
      "text/plain": [
       "<Figure size 720x576 with 1 Axes>"
      ]
     },
     "metadata": {
      "needs_background": "light"
     },
     "output_type": "display_data"
    }
   ],
   "source": [
    "df1.plot(kind='bar',figsize=(10,8))\n",
    "plt.grid(which='major', linestyle='-', linewidth='0.5', color='green')\n",
    "plt.grid(which='minor', linestyle=':', linewidth='0.5', color='black')\n",
    "plt.show()"
   ]
  },
  {
   "cell_type": "code",
   "execution_count": 676,
   "metadata": {},
   "outputs": [
    {
     "name": "stdout",
     "output_type": "stream",
     "text": [
      "Mean Absolute Error: 142.5358851841518\n",
      "Mean Squared Error: 41313.1556756539\n",
      "Root Mean Squared Error: 203.2563791757934\n",
      "R2 score:  0.30666715608167405\n"
     ]
    }
   ],
   "source": [
    "print('Mean Absolute Error:', metrics.mean_absolute_error(y_test, y_pred))  \n",
    "print('Mean Squared Error:', metrics.mean_squared_error(y_test, y_pred))  \n",
    "print('Root Mean Squared Error:', np.sqrt(metrics.mean_squared_error(y_test, y_pred)))\n",
    "print('R2 score: ', r2_score(y_test, y_pred))\n"
   ]
  },
  {
   "cell_type": "markdown",
   "metadata": {},
   "source": [
    "### ARIMA"
   ]
  },
  {
   "cell_type": "code",
   "execution_count": 468,
   "metadata": {},
   "outputs": [
    {
     "data": {
      "text/html": [
       "<div>\n",
       "<style scoped>\n",
       "    .dataframe tbody tr th:only-of-type {\n",
       "        vertical-align: middle;\n",
       "    }\n",
       "\n",
       "    .dataframe tbody tr th {\n",
       "        vertical-align: top;\n",
       "    }\n",
       "\n",
       "    .dataframe thead th {\n",
       "        text-align: right;\n",
       "    }\n",
       "</style>\n",
       "<table border=\"1\" class=\"dataframe\">\n",
       "  <thead>\n",
       "    <tr style=\"text-align: right;\">\n",
       "      <th></th>\n",
       "      <th>week_start</th>\n",
       "      <th>weekly_incidents</th>\n",
       "      <th>fisical_year</th>\n",
       "      <th>southern_dist_weekly_incidents</th>\n",
       "      <th>southern_dist_weekly_resolved</th>\n",
       "      <th>tot_budget</th>\n",
       "      <th>holiday_count</th>\n",
       "      <th>friday_incidents</th>\n",
       "      <th>quarter_1</th>\n",
       "      <th>quarter_2</th>\n",
       "      <th>...</th>\n",
       "      <th>lag_15</th>\n",
       "      <th>lag_16</th>\n",
       "      <th>lag_17</th>\n",
       "      <th>lag_18</th>\n",
       "      <th>lag_19</th>\n",
       "      <th>lag_20</th>\n",
       "      <th>lag_21</th>\n",
       "      <th>lag_22</th>\n",
       "      <th>lag_23</th>\n",
       "      <th>lag_24</th>\n",
       "    </tr>\n",
       "  </thead>\n",
       "  <tbody>\n",
       "    <tr>\n",
       "      <th>0</th>\n",
       "      <td>2002-12-30</td>\n",
       "      <td>2197</td>\n",
       "      <td>2002</td>\n",
       "      <td>384</td>\n",
       "      <td>198</td>\n",
       "      <td>NaN</td>\n",
       "      <td>1.0</td>\n",
       "      <td>440.0</td>\n",
       "      <td>0</td>\n",
       "      <td>0</td>\n",
       "      <td>...</td>\n",
       "      <td>NaN</td>\n",
       "      <td>NaN</td>\n",
       "      <td>NaN</td>\n",
       "      <td>NaN</td>\n",
       "      <td>NaN</td>\n",
       "      <td>NaN</td>\n",
       "      <td>NaN</td>\n",
       "      <td>NaN</td>\n",
       "      <td>NaN</td>\n",
       "      <td>NaN</td>\n",
       "    </tr>\n",
       "    <tr>\n",
       "      <th>1</th>\n",
       "      <td>2003-01-06</td>\n",
       "      <td>2849</td>\n",
       "      <td>2003</td>\n",
       "      <td>473</td>\n",
       "      <td>244</td>\n",
       "      <td>NaN</td>\n",
       "      <td>0.0</td>\n",
       "      <td>399.0</td>\n",
       "      <td>1</td>\n",
       "      <td>0</td>\n",
       "      <td>...</td>\n",
       "      <td>NaN</td>\n",
       "      <td>NaN</td>\n",
       "      <td>NaN</td>\n",
       "      <td>NaN</td>\n",
       "      <td>NaN</td>\n",
       "      <td>NaN</td>\n",
       "      <td>NaN</td>\n",
       "      <td>NaN</td>\n",
       "      <td>NaN</td>\n",
       "      <td>NaN</td>\n",
       "    </tr>\n",
       "    <tr>\n",
       "      <th>2</th>\n",
       "      <td>2003-01-13</td>\n",
       "      <td>2721</td>\n",
       "      <td>2003</td>\n",
       "      <td>411</td>\n",
       "      <td>178</td>\n",
       "      <td>NaN</td>\n",
       "      <td>0.0</td>\n",
       "      <td>444.0</td>\n",
       "      <td>1</td>\n",
       "      <td>0</td>\n",
       "      <td>...</td>\n",
       "      <td>NaN</td>\n",
       "      <td>NaN</td>\n",
       "      <td>NaN</td>\n",
       "      <td>NaN</td>\n",
       "      <td>NaN</td>\n",
       "      <td>NaN</td>\n",
       "      <td>NaN</td>\n",
       "      <td>NaN</td>\n",
       "      <td>NaN</td>\n",
       "      <td>NaN</td>\n",
       "    </tr>\n",
       "    <tr>\n",
       "      <th>3</th>\n",
       "      <td>2003-01-20</td>\n",
       "      <td>2982</td>\n",
       "      <td>2003</td>\n",
       "      <td>497</td>\n",
       "      <td>247</td>\n",
       "      <td>NaN</td>\n",
       "      <td>1.0</td>\n",
       "      <td>466.0</td>\n",
       "      <td>1</td>\n",
       "      <td>0</td>\n",
       "      <td>...</td>\n",
       "      <td>NaN</td>\n",
       "      <td>NaN</td>\n",
       "      <td>NaN</td>\n",
       "      <td>NaN</td>\n",
       "      <td>NaN</td>\n",
       "      <td>NaN</td>\n",
       "      <td>NaN</td>\n",
       "      <td>NaN</td>\n",
       "      <td>NaN</td>\n",
       "      <td>NaN</td>\n",
       "    </tr>\n",
       "    <tr>\n",
       "      <th>4</th>\n",
       "      <td>2003-01-27</td>\n",
       "      <td>2999</td>\n",
       "      <td>2003</td>\n",
       "      <td>495</td>\n",
       "      <td>250</td>\n",
       "      <td>NaN</td>\n",
       "      <td>0.0</td>\n",
       "      <td>419.0</td>\n",
       "      <td>1</td>\n",
       "      <td>0</td>\n",
       "      <td>...</td>\n",
       "      <td>NaN</td>\n",
       "      <td>NaN</td>\n",
       "      <td>NaN</td>\n",
       "      <td>NaN</td>\n",
       "      <td>NaN</td>\n",
       "      <td>NaN</td>\n",
       "      <td>NaN</td>\n",
       "      <td>NaN</td>\n",
       "      <td>NaN</td>\n",
       "      <td>NaN</td>\n",
       "    </tr>\n",
       "  </tbody>\n",
       "</table>\n",
       "<p>5 rows × 31 columns</p>\n",
       "</div>"
      ],
      "text/plain": [
       "  week_start  weekly_incidents  fisical_year  southern_dist_weekly_incidents  \\\n",
       "0 2002-12-30              2197          2002                             384   \n",
       "1 2003-01-06              2849          2003                             473   \n",
       "2 2003-01-13              2721          2003                             411   \n",
       "3 2003-01-20              2982          2003                             497   \n",
       "4 2003-01-27              2999          2003                             495   \n",
       "\n",
       "   southern_dist_weekly_resolved  tot_budget  holiday_count  friday_incidents  \\\n",
       "0                            198         NaN            1.0             440.0   \n",
       "1                            244         NaN            0.0             399.0   \n",
       "2                            178         NaN            0.0             444.0   \n",
       "3                            247         NaN            1.0             466.0   \n",
       "4                            250         NaN            0.0             419.0   \n",
       "\n",
       "   quarter_1  quarter_2   ...    lag_15  lag_16  lag_17  lag_18  lag_19  \\\n",
       "0          0          0   ...       NaN     NaN     NaN     NaN     NaN   \n",
       "1          1          0   ...       NaN     NaN     NaN     NaN     NaN   \n",
       "2          1          0   ...       NaN     NaN     NaN     NaN     NaN   \n",
       "3          1          0   ...       NaN     NaN     NaN     NaN     NaN   \n",
       "4          1          0   ...       NaN     NaN     NaN     NaN     NaN   \n",
       "\n",
       "   lag_20  lag_21  lag_22  lag_23  lag_24  \n",
       "0     NaN     NaN     NaN     NaN     NaN  \n",
       "1     NaN     NaN     NaN     NaN     NaN  \n",
       "2     NaN     NaN     NaN     NaN     NaN  \n",
       "3     NaN     NaN     NaN     NaN     NaN  \n",
       "4     NaN     NaN     NaN     NaN     NaN  \n",
       "\n",
       "[5 rows x 31 columns]"
      ]
     },
     "execution_count": 468,
     "metadata": {},
     "output_type": "execute_result"
    }
   ],
   "source": [
    "#here we use original, no lag data\n",
    "final2.head()"
   ]
  },
  {
   "cell_type": "code",
   "execution_count": 282,
   "metadata": {},
   "outputs": [],
   "source": [
    "data = final[['week_start','weekly_incidents']]"
   ]
  },
  {
   "cell_type": "code",
   "execution_count": 283,
   "metadata": {},
   "outputs": [
    {
     "data": {
      "image/png": "[encoded data removed]",
      "text/plain": [
       "<Figure size 432x288 with 1 Axes>"
      ]
     },
     "metadata": {
      "needs_background": "light"
     },
     "output_type": "display_data"
    }
   ],
   "source": [
    "# Normal line plot so that we can see data variation\n",
    "final.plot.line(x = 'week_start', y = 'weekly_incidents')\n",
    "plt.show()"
   ]
  },
  {
   "cell_type": "markdown",
   "metadata": {},
   "source": [
    "In previous lines we already know that the data is non stationary. "
   ]
  },
  {
   "cell_type": "code",
   "execution_count": 284,
   "metadata": {},
   "outputs": [
    {
     "data": {
      "image/png": "[encoded data removed]",
      "text/plain": [
       "<Figure size 1440x720 with 1 Axes>"
      ]
     },
     "metadata": {
      "needs_background": "light"
     },
     "output_type": "display_data"
    }
   ],
   "source": [
    "#smoothing - trend analysis\n",
    "data2 = final['weekly_incidents']\n",
    "data2.rolling(6).mean().plot(figsize=(20,10), linewidth=5, fontsize=20)\n",
    "plt.show()"
   ]
  },
  {
   "cell_type": "code",
   "execution_count": 285,
   "metadata": {},
   "outputs": [
    {
     "data": {
      "image/png": "[encoded data removed]",
      "text/plain": [
       "<Figure size 432x288 with 1 Axes>"
      ]
     },
     "metadata": {
      "needs_background": "light"
     },
     "output_type": "display_data"
    }
   ],
   "source": [
    "#seasonality\n",
    "pd.plotting.autocorrelation_plot(final['weekly_incidents'])\n",
    "plt.show()"
   ]
  },
  {
   "cell_type": "code",
   "execution_count": 286,
   "metadata": {},
   "outputs": [
    {
     "data": {
      "text/html": [
       "<div>\n",
       "<style scoped>\n",
       "    .dataframe tbody tr th:only-of-type {\n",
       "        vertical-align: middle;\n",
       "    }\n",
       "\n",
       "    .dataframe tbody tr th {\n",
       "        vertical-align: top;\n",
       "    }\n",
       "\n",
       "    .dataframe thead th {\n",
       "        text-align: right;\n",
       "    }\n",
       "</style>\n",
       "<table border=\"1\" class=\"dataframe\">\n",
       "  <thead>\n",
       "    <tr style=\"text-align: right;\">\n",
       "      <th></th>\n",
       "      <th>week_start</th>\n",
       "      <th>weekly_incidents</th>\n",
       "    </tr>\n",
       "  </thead>\n",
       "  <tbody>\n",
       "    <tr>\n",
       "      <th>0</th>\n",
       "      <td>2002-12-30</td>\n",
       "      <td>2197</td>\n",
       "    </tr>\n",
       "    <tr>\n",
       "      <th>1</th>\n",
       "      <td>2003-01-06</td>\n",
       "      <td>2849</td>\n",
       "    </tr>\n",
       "    <tr>\n",
       "      <th>2</th>\n",
       "      <td>2003-01-13</td>\n",
       "      <td>2721</td>\n",
       "    </tr>\n",
       "    <tr>\n",
       "      <th>3</th>\n",
       "      <td>2003-01-20</td>\n",
       "      <td>2982</td>\n",
       "    </tr>\n",
       "    <tr>\n",
       "      <th>4</th>\n",
       "      <td>2003-01-27</td>\n",
       "      <td>2999</td>\n",
       "    </tr>\n",
       "  </tbody>\n",
       "</table>\n",
       "</div>"
      ],
      "text/plain": [
       "  week_start  weekly_incidents\n",
       "0 2002-12-30              2197\n",
       "1 2003-01-06              2849\n",
       "2 2003-01-13              2721\n",
       "3 2003-01-20              2982\n",
       "4 2003-01-27              2999"
      ]
     },
     "execution_count": 286,
     "metadata": {},
     "output_type": "execute_result"
    }
   ],
   "source": [
    "data.head()"
   ]
  },
  {
   "cell_type": "code",
   "execution_count": 287,
   "metadata": {},
   "outputs": [
    {
     "name": "stderr",
     "output_type": "stream",
     "text": [
      "/anaconda3/lib/python3.7/site-packages/ipykernel_launcher.py:3: SettingWithCopyWarning: \n",
      "A value is trying to be set on a copy of a slice from a DataFrame.\n",
      "Try using .loc[row_indexer,col_indexer] = value instead\n",
      "\n",
      "See the caveats in the documentation: http://pandas.pydata.org/pandas-docs/stable/indexing.html#indexing-view-versus-copy\n",
      "  This is separate from the ipykernel package so we can avoid doing imports until\n"
     ]
    }
   ],
   "source": [
    "#Monthly Trend\n",
    "\n",
    "data['Month'] = data['week_start'].dt.month\n"
   ]
  },
  {
   "cell_type": "code",
   "execution_count": 288,
   "metadata": {},
   "outputs": [
    {
     "data": {
      "image/png": "[encoded data removed]",
      "text/plain": [
       "<Figure size 432x288 with 1 Axes>"
      ]
     },
     "metadata": {
      "needs_background": "light"
     },
     "output_type": "display_data"
    }
   ],
   "source": [
    "to_plot = data.groupby(data.Month)['weekly_incidents'].sum().to_frame('monthly_incidents').reset_index()\n",
    "sns.barplot(x = 'Month', y = 'monthly_incidents', data = to_plot)\n",
    "plt.show()"
   ]
  },
  {
   "cell_type": "code",
   "execution_count": 289,
   "metadata": {},
   "outputs": [
    {
     "name": "stderr",
     "output_type": "stream",
     "text": [
      "'c' argument looks like a single numeric RGB or RGBA sequence, which should be avoided as value-mapping will have precedence in case its length matches with 'x' & 'y'.  Please use a 2-D array with a single row if you really want to specify the same RGB or RGBA value for all points.\n"
     ]
    },
    {
     "data": {
      "image/png": "[encoded data removed]",
      "text/plain": [
       "<Figure size 432x288 with 1 Axes>"
      ]
     },
     "metadata": {
      "needs_background": "light"
     },
     "output_type": "display_data"
    }
   ],
   "source": [
    "#lag: The curve represents the relation between current time stepp and its previous time step\n",
    "\n",
    "pd.plotting.lag_plot(final['weekly_incidents'])\n",
    "plt.show()"
   ]
  },
  {
   "cell_type": "markdown",
   "metadata": {},
   "source": [
    "Hence, we choose (0,1,0) random walk and seasonal_order being (1,1,1,12) as there is monthly seasonality"
   ]
  },
  {
   "cell_type": "code",
   "execution_count": 299,
   "metadata": {},
   "outputs": [],
   "source": [
    "train = final[(final['fisical_year'] >= 2010)&(final['fisical_year'] <= 2016)]\n",
    "arima_train = train[['week_start','weekly_incidents']]"
   ]
  },
  {
   "cell_type": "code",
   "execution_count": 300,
   "metadata": {},
   "outputs": [
    {
     "name": "stdout",
     "output_type": "stream",
     "text": [
      "                                 Statespace Model Results                                \n",
      "=========================================================================================\n",
      "Dep. Variable:                  weekly_incidents   No. Observations:                  365\n",
      "Model:             SARIMAX(0, 1, 0)x(1, 1, 1, 4)   Log Likelihood               -2357.606\n",
      "Date:                           Sun, 14 Jun 2020   AIC                           4721.213\n",
      "Time:                                   00:41:28   BIC                           4732.871\n",
      "Sample:                                        0   HQIC                          4725.848\n",
      "                                           - 365                                         \n",
      "Covariance Type:                             opg                                         \n",
      "==============================================================================\n",
      "                 coef    std err          z      P>|z|      [0.025      0.975]\n",
      "------------------------------------------------------------------------------\n",
      "ar.S.L4        0.1848      0.054      3.404      0.001       0.078       0.291\n",
      "ma.S.L4       -0.9992      0.528     -1.892      0.058      -2.034       0.036\n",
      "sigma2      2.728e+04   1.43e+04      1.910      0.056    -711.488    5.53e+04\n",
      "===================================================================================\n",
      "Ljung-Box (Q):                      105.95   Jarque-Bera (JB):                52.84\n",
      "Prob(Q):                              0.00   Prob(JB):                         0.00\n",
      "Heteroskedasticity (H):               1.16   Skew:                             0.03\n",
      "Prob(H) (two-sided):                  0.41   Kurtosis:                         4.88\n",
      "===================================================================================\n",
      "\n",
      "Warnings:\n",
      "[1] Covariance matrix calculated using the outer product of gradients (complex-step).\n"
     ]
    },
    {
     "name": "stderr",
     "output_type": "stream",
     "text": [
      "/anaconda3/lib/python3.7/site-packages/statsmodels/tsa/base/tsa_model.py:221: ValueWarning: An unsupported index was provided and will be ignored when e.g. forecasting.\n",
      "  ' ignored when e.g. forecasting.', ValueWarning)\n"
     ]
    }
   ],
   "source": [
    "mod = SARIMAX(arima_train['weekly_incidents'], trend='n', order=(0,1,0), seasonal_order=(1,1,1,4))\n",
    "results = mod.fit()\n",
    "print(results.summary())"
   ]
  },
  {
   "cell_type": "code",
   "execution_count": 302,
   "metadata": {},
   "outputs": [],
   "source": [
    "test = final[final['fisical_year'] >= 2017]\n",
    "arima_test = test[['week_start','weekly_incidents']]"
   ]
  },
  {
   "cell_type": "markdown",
   "metadata": {},
   "source": [
    "### SARIMA "
   ]
  },
  {
   "cell_type": "code",
   "execution_count": 309,
   "metadata": {},
   "outputs": [
    {
     "data": {
      "text/plain": [
       "36"
      ]
     },
     "execution_count": 309,
     "metadata": {},
     "output_type": "execute_result"
    }
   ],
   "source": [
    "from itertools import product                \n",
    "\n",
    "ps = range(2, 5)\n",
    "d=1 \n",
    "qs = range(2, 5)\n",
    "Ps = range(0, 2)\n",
    "D=1 \n",
    "Qs = range(0, 2)\n",
    "s = 24 # season length is still 24\n",
    "\n",
    "# creating list with all the possible combinations of parameters\n",
    "parameters = product(ps, qs, Ps, Qs)\n",
    "parameters_list = list(parameters)\n",
    "len(parameters_list)"
   ]
  },
  {
   "cell_type": "code",
   "execution_count": 539,
   "metadata": {},
   "outputs": [],
   "source": [
    "train_2 = final[(final['fisical_year'] >= 2010) & (final['fisical_year'] <= 2016)]\n",
    "arima_train_2 = train_2[['week_start','weekly_incidents']]\n"
   ]
  },
  {
   "cell_type": "code",
   "execution_count": 540,
   "metadata": {},
   "outputs": [],
   "source": [
    "arima_train_2= arima_train_2.set_index('week_start')\n"
   ]
  },
  {
   "cell_type": "code",
   "execution_count": 315,
   "metadata": {},
   "outputs": [],
   "source": [
    "#an optimization function\n",
    "from tqdm import tqdm_notebook\n",
    "\n",
    "def optimizeSARIMA(parameters_list, d, D, s):\n",
    "    \"\"\"\n",
    "        Return dataframe with parameters and corresponding AIC\n",
    "        \n",
    "        parameters_list - list with (p, q, P, Q) tuples\n",
    "        d - integration order in ARIMA model\n",
    "        D - seasonal integration order \n",
    "        s - length of season\n",
    "    \"\"\"\n",
    "    \n",
    "    results = []\n",
    "    best_aic = float(\"inf\")\n",
    "\n",
    "    for param in tqdm_notebook(parameters_list):\n",
    "        # we need try-except because on some combinations model fails to converge\n",
    "        try:\n",
    "            model= SARIMAX(arima_train_2.weekly_incidents, order=(param[0], d, param[1]), \n",
    "                                            seasonal_order=(param[2], D, param[3], s)).fit(disp=-1)\n",
    "        except:\n",
    "            continue\n",
    "        aic = model.aic\n",
    "        # saving best model, AIC and parameters\n",
    "        if aic < best_aic:\n",
    "            best_model = model\n",
    "            best_aic = aic\n",
    "            best_param = param\n",
    "        results.append([param, model.aic])\n",
    "\n",
    "    result_table = pd.DataFrame(results)\n",
    "    result_table.columns = ['parameters', 'aic']\n",
    "    # sorting in ascending order, the lower AIC is - the better\n",
    "    result_table = result_table.sort_values(by='aic', ascending=True).reset_index(drop=True)\n",
    "    \n",
    "    return result_table"
   ]
  },
  {
   "cell_type": "code",
   "execution_count": 541,
   "metadata": {},
   "outputs": [
    {
     "data": {
      "application/vnd.jupyter.widget-view+json": {
       "model_id": "f3d099b5716e49409f67fd6eab316e94",
       "version_major": 2,
       "version_minor": 0
      },
      "text/plain": [
       "HBox(children=(IntProgress(value=0, max=36), HTML(value='')))"
      ]
     },
     "metadata": {},
     "output_type": "display_data"
    },
    {
     "name": "stderr",
     "output_type": "stream",
     "text": [
      "/anaconda3/lib/python3.7/site-packages/statsmodels/tsa/base/tsa_model.py:171: ValueWarning: No frequency information was provided, so inferred frequency W-MON will be used.\n",
      "  % freq, ValueWarning)\n",
      "/anaconda3/lib/python3.7/site-packages/statsmodels/tsa/base/tsa_model.py:171: ValueWarning: No frequency information was provided, so inferred frequency W-MON will be used.\n",
      "  % freq, ValueWarning)\n",
      "/anaconda3/lib/python3.7/site-packages/statsmodels/base/model.py:508: ConvergenceWarning: Maximum Likelihood optimization failed to converge. Check mle_retvals\n",
      "  \"Check mle_retvals\", ConvergenceWarning)\n",
      "/anaconda3/lib/python3.7/site-packages/statsmodels/tsa/base/tsa_model.py:171: ValueWarning: No frequency information was provided, so inferred frequency W-MON will be used.\n",
      "  % freq, ValueWarning)\n",
      "/anaconda3/lib/python3.7/site-packages/statsmodels/tsa/base/tsa_model.py:171: ValueWarning: No frequency information was provided, so inferred frequency W-MON will be used.\n",
      "  % freq, ValueWarning)\n",
      "/anaconda3/lib/python3.7/site-packages/statsmodels/tsa/base/tsa_model.py:171: ValueWarning: No frequency information was provided, so inferred frequency W-MON will be used.\n",
      "  % freq, ValueWarning)\n",
      "/anaconda3/lib/python3.7/site-packages/statsmodels/tsa/base/tsa_model.py:171: ValueWarning: No frequency information was provided, so inferred frequency W-MON will be used.\n",
      "  % freq, ValueWarning)\n",
      "/anaconda3/lib/python3.7/site-packages/statsmodels/base/model.py:508: ConvergenceWarning: Maximum Likelihood optimization failed to converge. Check mle_retvals\n",
      "  \"Check mle_retvals\", ConvergenceWarning)\n",
      "/anaconda3/lib/python3.7/site-packages/statsmodels/tsa/base/tsa_model.py:171: ValueWarning: No frequency information was provided, so inferred frequency W-MON will be used.\n",
      "  % freq, ValueWarning)\n",
      "/anaconda3/lib/python3.7/site-packages/statsmodels/base/model.py:508: ConvergenceWarning: Maximum Likelihood optimization failed to converge. Check mle_retvals\n",
      "  \"Check mle_retvals\", ConvergenceWarning)\n",
      "/anaconda3/lib/python3.7/site-packages/statsmodels/tsa/base/tsa_model.py:171: ValueWarning: No frequency information was provided, so inferred frequency W-MON will be used.\n",
      "  % freq, ValueWarning)\n",
      "/anaconda3/lib/python3.7/site-packages/statsmodels/base/model.py:508: ConvergenceWarning: Maximum Likelihood optimization failed to converge. Check mle_retvals\n",
      "  \"Check mle_retvals\", ConvergenceWarning)\n",
      "/anaconda3/lib/python3.7/site-packages/statsmodels/tsa/base/tsa_model.py:171: ValueWarning: No frequency information was provided, so inferred frequency W-MON will be used.\n",
      "  % freq, ValueWarning)\n",
      "/anaconda3/lib/python3.7/site-packages/statsmodels/base/model.py:508: ConvergenceWarning: Maximum Likelihood optimization failed to converge. Check mle_retvals\n",
      "  \"Check mle_retvals\", ConvergenceWarning)\n",
      "/anaconda3/lib/python3.7/site-packages/statsmodels/tsa/base/tsa_model.py:171: ValueWarning: No frequency information was provided, so inferred frequency W-MON will be used.\n",
      "  % freq, ValueWarning)\n",
      "/anaconda3/lib/python3.7/site-packages/statsmodels/tsa/base/tsa_model.py:171: ValueWarning: No frequency information was provided, so inferred frequency W-MON will be used.\n",
      "  % freq, ValueWarning)\n",
      "/anaconda3/lib/python3.7/site-packages/statsmodels/base/model.py:508: ConvergenceWarning: Maximum Likelihood optimization failed to converge. Check mle_retvals\n",
      "  \"Check mle_retvals\", ConvergenceWarning)\n",
      "/anaconda3/lib/python3.7/site-packages/statsmodels/tsa/base/tsa_model.py:171: ValueWarning: No frequency information was provided, so inferred frequency W-MON will be used.\n",
      "  % freq, ValueWarning)\n",
      "/anaconda3/lib/python3.7/site-packages/statsmodels/tsa/base/tsa_model.py:171: ValueWarning: No frequency information was provided, so inferred frequency W-MON will be used.\n",
      "  % freq, ValueWarning)\n",
      "/anaconda3/lib/python3.7/site-packages/statsmodels/tsa/base/tsa_model.py:171: ValueWarning: No frequency information was provided, so inferred frequency W-MON will be used.\n",
      "  % freq, ValueWarning)\n",
      "/anaconda3/lib/python3.7/site-packages/statsmodels/base/model.py:508: ConvergenceWarning: Maximum Likelihood optimization failed to converge. Check mle_retvals\n",
      "  \"Check mle_retvals\", ConvergenceWarning)\n",
      "/anaconda3/lib/python3.7/site-packages/statsmodels/tsa/base/tsa_model.py:171: ValueWarning: No frequency information was provided, so inferred frequency W-MON will be used.\n",
      "  % freq, ValueWarning)\n",
      "/anaconda3/lib/python3.7/site-packages/statsmodels/base/model.py:508: ConvergenceWarning: Maximum Likelihood optimization failed to converge. Check mle_retvals\n",
      "  \"Check mle_retvals\", ConvergenceWarning)\n",
      "/anaconda3/lib/python3.7/site-packages/statsmodels/tsa/base/tsa_model.py:171: ValueWarning: No frequency information was provided, so inferred frequency W-MON will be used.\n",
      "  % freq, ValueWarning)\n",
      "/anaconda3/lib/python3.7/site-packages/statsmodels/base/model.py:508: ConvergenceWarning: Maximum Likelihood optimization failed to converge. Check mle_retvals\n",
      "  \"Check mle_retvals\", ConvergenceWarning)\n",
      "/anaconda3/lib/python3.7/site-packages/statsmodels/tsa/base/tsa_model.py:171: ValueWarning: No frequency information was provided, so inferred frequency W-MON will be used.\n",
      "  % freq, ValueWarning)\n",
      "/anaconda3/lib/python3.7/site-packages/statsmodels/base/model.py:508: ConvergenceWarning: Maximum Likelihood optimization failed to converge. Check mle_retvals\n",
      "  \"Check mle_retvals\", ConvergenceWarning)\n",
      "/anaconda3/lib/python3.7/site-packages/statsmodels/tsa/base/tsa_model.py:171: ValueWarning: No frequency information was provided, so inferred frequency W-MON will be used.\n",
      "  % freq, ValueWarning)\n",
      "/anaconda3/lib/python3.7/site-packages/statsmodels/base/model.py:508: ConvergenceWarning: Maximum Likelihood optimization failed to converge. Check mle_retvals\n",
      "  \"Check mle_retvals\", ConvergenceWarning)\n",
      "/anaconda3/lib/python3.7/site-packages/statsmodels/tsa/base/tsa_model.py:171: ValueWarning: No frequency information was provided, so inferred frequency W-MON will be used.\n",
      "  % freq, ValueWarning)\n",
      "/anaconda3/lib/python3.7/site-packages/statsmodels/tsa/base/tsa_model.py:171: ValueWarning: No frequency information was provided, so inferred frequency W-MON will be used.\n",
      "  % freq, ValueWarning)\n",
      "/anaconda3/lib/python3.7/site-packages/statsmodels/base/model.py:508: ConvergenceWarning: Maximum Likelihood optimization failed to converge. Check mle_retvals\n",
      "  \"Check mle_retvals\", ConvergenceWarning)\n",
      "/anaconda3/lib/python3.7/site-packages/statsmodels/tsa/base/tsa_model.py:171: ValueWarning: No frequency information was provided, so inferred frequency W-MON will be used.\n",
      "  % freq, ValueWarning)\n",
      "/anaconda3/lib/python3.7/site-packages/statsmodels/base/model.py:508: ConvergenceWarning: Maximum Likelihood optimization failed to converge. Check mle_retvals\n",
      "  \"Check mle_retvals\", ConvergenceWarning)\n",
      "/anaconda3/lib/python3.7/site-packages/statsmodels/tsa/base/tsa_model.py:171: ValueWarning: No frequency information was provided, so inferred frequency W-MON will be used.\n",
      "  % freq, ValueWarning)\n",
      "/anaconda3/lib/python3.7/site-packages/statsmodels/base/model.py:508: ConvergenceWarning: Maximum Likelihood optimization failed to converge. Check mle_retvals\n",
      "  \"Check mle_retvals\", ConvergenceWarning)\n",
      "/anaconda3/lib/python3.7/site-packages/statsmodels/tsa/base/tsa_model.py:171: ValueWarning: No frequency information was provided, so inferred frequency W-MON will be used.\n",
      "  % freq, ValueWarning)\n",
      "/anaconda3/lib/python3.7/site-packages/statsmodels/base/model.py:508: ConvergenceWarning: Maximum Likelihood optimization failed to converge. Check mle_retvals\n",
      "  \"Check mle_retvals\", ConvergenceWarning)\n",
      "/anaconda3/lib/python3.7/site-packages/statsmodels/tsa/base/tsa_model.py:171: ValueWarning: No frequency information was provided, so inferred frequency W-MON will be used.\n",
      "  % freq, ValueWarning)\n",
      "/anaconda3/lib/python3.7/site-packages/statsmodels/base/model.py:508: ConvergenceWarning: Maximum Likelihood optimization failed to converge. Check mle_retvals\n",
      "  \"Check mle_retvals\", ConvergenceWarning)\n",
      "/anaconda3/lib/python3.7/site-packages/statsmodels/tsa/base/tsa_model.py:171: ValueWarning: No frequency information was provided, so inferred frequency W-MON will be used.\n",
      "  % freq, ValueWarning)\n",
      "/anaconda3/lib/python3.7/site-packages/statsmodels/tsa/base/tsa_model.py:171: ValueWarning: No frequency information was provided, so inferred frequency W-MON will be used.\n",
      "  % freq, ValueWarning)\n",
      "/anaconda3/lib/python3.7/site-packages/statsmodels/tsa/base/tsa_model.py:171: ValueWarning: No frequency information was provided, so inferred frequency W-MON will be used.\n",
      "  % freq, ValueWarning)\n",
      "/anaconda3/lib/python3.7/site-packages/statsmodels/tsa/base/tsa_model.py:171: ValueWarning: No frequency information was provided, so inferred frequency W-MON will be used.\n",
      "  % freq, ValueWarning)\n",
      "/anaconda3/lib/python3.7/site-packages/statsmodels/tsa/base/tsa_model.py:171: ValueWarning: No frequency information was provided, so inferred frequency W-MON will be used.\n",
      "  % freq, ValueWarning)\n",
      "/anaconda3/lib/python3.7/site-packages/statsmodels/tsa/base/tsa_model.py:171: ValueWarning: No frequency information was provided, so inferred frequency W-MON will be used.\n",
      "  % freq, ValueWarning)\n",
      "/anaconda3/lib/python3.7/site-packages/statsmodels/tsa/base/tsa_model.py:171: ValueWarning: No frequency information was provided, so inferred frequency W-MON will be used.\n",
      "  % freq, ValueWarning)\n",
      "/anaconda3/lib/python3.7/site-packages/statsmodels/tsa/base/tsa_model.py:171: ValueWarning: No frequency information was provided, so inferred frequency W-MON will be used.\n",
      "  % freq, ValueWarning)\n",
      "/anaconda3/lib/python3.7/site-packages/statsmodels/tsa/base/tsa_model.py:171: ValueWarning: No frequency information was provided, so inferred frequency W-MON will be used.\n",
      "  % freq, ValueWarning)\n"
     ]
    },
    {
     "name": "stderr",
     "output_type": "stream",
     "text": [
      "/anaconda3/lib/python3.7/site-packages/statsmodels/base/model.py:508: ConvergenceWarning: Maximum Likelihood optimization failed to converge. Check mle_retvals\n",
      "  \"Check mle_retvals\", ConvergenceWarning)\n",
      "/anaconda3/lib/python3.7/site-packages/statsmodels/tsa/base/tsa_model.py:171: ValueWarning: No frequency information was provided, so inferred frequency W-MON will be used.\n",
      "  % freq, ValueWarning)\n",
      "/anaconda3/lib/python3.7/site-packages/statsmodels/base/model.py:508: ConvergenceWarning: Maximum Likelihood optimization failed to converge. Check mle_retvals\n",
      "  \"Check mle_retvals\", ConvergenceWarning)\n",
      "/anaconda3/lib/python3.7/site-packages/statsmodels/tsa/base/tsa_model.py:171: ValueWarning: No frequency information was provided, so inferred frequency W-MON will be used.\n",
      "  % freq, ValueWarning)\n",
      "/anaconda3/lib/python3.7/site-packages/statsmodels/base/model.py:508: ConvergenceWarning: Maximum Likelihood optimization failed to converge. Check mle_retvals\n",
      "  \"Check mle_retvals\", ConvergenceWarning)\n",
      "/anaconda3/lib/python3.7/site-packages/statsmodels/tsa/base/tsa_model.py:171: ValueWarning: No frequency information was provided, so inferred frequency W-MON will be used.\n",
      "  % freq, ValueWarning)\n",
      "/anaconda3/lib/python3.7/site-packages/statsmodels/base/model.py:508: ConvergenceWarning: Maximum Likelihood optimization failed to converge. Check mle_retvals\n",
      "  \"Check mle_retvals\", ConvergenceWarning)\n"
     ]
    },
    {
     "name": "stdout",
     "output_type": "stream",
     "text": [
      "\n"
     ]
    }
   ],
   "source": [
    "result_table = optimizeSARIMA(parameters_list, d, D, s)"
   ]
  },
  {
   "cell_type": "code",
   "execution_count": 542,
   "metadata": {},
   "outputs": [
    {
     "data": {
      "text/html": [
       "<div>\n",
       "<style scoped>\n",
       "    .dataframe tbody tr th:only-of-type {\n",
       "        vertical-align: middle;\n",
       "    }\n",
       "\n",
       "    .dataframe tbody tr th {\n",
       "        vertical-align: top;\n",
       "    }\n",
       "\n",
       "    .dataframe thead th {\n",
       "        text-align: right;\n",
       "    }\n",
       "</style>\n",
       "<table border=\"1\" class=\"dataframe\">\n",
       "  <thead>\n",
       "    <tr style=\"text-align: right;\">\n",
       "      <th></th>\n",
       "      <th>parameters</th>\n",
       "      <th>aic</th>\n",
       "    </tr>\n",
       "  </thead>\n",
       "  <tbody>\n",
       "    <tr>\n",
       "      <th>0</th>\n",
       "      <td>(2, 2, 0, 1)</td>\n",
       "      <td>4403.080437</td>\n",
       "    </tr>\n",
       "    <tr>\n",
       "      <th>1</th>\n",
       "      <td>(2, 2, 1, 1)</td>\n",
       "      <td>4406.553523</td>\n",
       "    </tr>\n",
       "    <tr>\n",
       "      <th>2</th>\n",
       "      <td>(2, 3, 0, 1)</td>\n",
       "      <td>4407.867930</td>\n",
       "    </tr>\n",
       "    <tr>\n",
       "      <th>3</th>\n",
       "      <td>(3, 2, 0, 1)</td>\n",
       "      <td>4408.340050</td>\n",
       "    </tr>\n",
       "    <tr>\n",
       "      <th>4</th>\n",
       "      <td>(2, 3, 1, 1)</td>\n",
       "      <td>4409.033166</td>\n",
       "    </tr>\n",
       "  </tbody>\n",
       "</table>\n",
       "</div>"
      ],
      "text/plain": [
       "     parameters          aic\n",
       "0  (2, 2, 0, 1)  4403.080437\n",
       "1  (2, 2, 1, 1)  4406.553523\n",
       "2  (2, 3, 0, 1)  4407.867930\n",
       "3  (3, 2, 0, 1)  4408.340050\n",
       "4  (2, 3, 1, 1)  4409.033166"
      ]
     },
     "execution_count": 542,
     "metadata": {},
     "output_type": "execute_result"
    }
   ],
   "source": [
    "result_table.head()\n"
   ]
  },
  {
   "cell_type": "code",
   "execution_count": 543,
   "metadata": {},
   "outputs": [
    {
     "name": "stderr",
     "output_type": "stream",
     "text": [
      "/anaconda3/lib/python3.7/site-packages/statsmodels/tsa/base/tsa_model.py:171: ValueWarning: No frequency information was provided, so inferred frequency W-MON will be used.\n",
      "  % freq, ValueWarning)\n",
      "/anaconda3/lib/python3.7/site-packages/statsmodels/base/model.py:508: ConvergenceWarning: Maximum Likelihood optimization failed to converge. Check mle_retvals\n",
      "  \"Check mle_retvals\", ConvergenceWarning)\n"
     ]
    },
    {
     "name": "stdout",
     "output_type": "stream",
     "text": [
      "                                 Statespace Model Results                                 \n",
      "==========================================================================================\n",
      "Dep. Variable:                   weekly_incidents   No. Observations:                  365\n",
      "Model:             SARIMAX(2, 1, 2)x(0, 1, 1, 24)   Log Likelihood               -2195.540\n",
      "Date:                            Sun, 14 Jun 2020   AIC                           4403.080\n",
      "Time:                                    18:04:38   BIC                           4426.054\n",
      "Sample:                                01-04-2010   HQIC                          4412.234\n",
      "                                     - 12-26-2016                                         \n",
      "Covariance Type:                              opg                                         \n",
      "==============================================================================\n",
      "                 coef    std err          z      P>|z|      [0.025      0.975]\n",
      "------------------------------------------------------------------------------\n",
      "ar.L1          0.7587      0.221      3.432      0.001       0.325       1.192\n",
      "ar.L2          0.0438      0.111      0.395      0.693      -0.174       0.261\n",
      "ma.L1         -1.3971      0.223     -6.273      0.000      -1.834      -0.961\n",
      "ma.L2          0.4211      0.204      2.062      0.039       0.021       0.821\n",
      "ma.S.L24      -0.9111      0.074    -12.361      0.000      -1.056      -0.767\n",
      "sigma2      2.104e+04   1584.289     13.281      0.000    1.79e+04    2.41e+04\n",
      "===================================================================================\n",
      "Ljung-Box (Q):                       51.91   Jarque-Bera (JB):                74.95\n",
      "Prob(Q):                              0.10   Prob(JB):                         0.00\n",
      "Heteroskedasticity (H):               1.37   Skew:                            -0.58\n",
      "Prob(H) (two-sided):                  0.10   Kurtosis:                         4.98\n",
      "===================================================================================\n",
      "\n",
      "Warnings:\n",
      "[1] Covariance matrix calculated using the outer product of gradients (complex-step).\n"
     ]
    }
   ],
   "source": [
    "# set the parameters that give the lowest AIC\n",
    "p, q, P, Q = result_table.parameters[0]\n",
    "\n",
    "best_model= SARIMAX(arima_train_2.weekly_incidents, order=(p, d, q), \n",
    "                                        seasonal_order=(P, D, Q, s)).fit(disp=-1)\n",
    "print(best_model.summary())"
   ]
  },
  {
   "cell_type": "code",
   "execution_count": 324,
   "metadata": {},
   "outputs": [],
   "source": [
    "#residual plot\n",
    "import statsmodels.api as sm\n",
    "import statsmodels.tsa.api as smt\n",
    "def tsplot(y, lags=None, figsize=(12, 7), style='bmh'):\n",
    "    \"\"\"\n",
    "        Plot time series, its ACF and PACF, calculate Dickey–Fuller test\n",
    "        \n",
    "        y - timeseries\n",
    "        lags - how many lags to include in ACF, PACF calculation\n",
    "    \"\"\"\n",
    "    if not isinstance(y, pd.Series):\n",
    "        y = pd.Series(y)\n",
    "        \n",
    "    with plt.style.context(style):    \n",
    "        fig = plt.figure(figsize=figsize)\n",
    "        layout = (2, 2)\n",
    "        ts_ax = plt.subplot2grid(layout, (0, 0), colspan=2)\n",
    "        acf_ax = plt.subplot2grid(layout, (1, 0))\n",
    "        pacf_ax = plt.subplot2grid(layout, (1, 1))\n",
    "        \n",
    "        y.plot(ax=ts_ax)\n",
    "        p_value = sm.tsa.stattools.adfuller(y)[1]\n",
    "        ts_ax.set_title('Time Series Analysis Plots\\n Dickey-Fuller: p={0:.5f}'.format(p_value))\n",
    "        smt.graphics.plot_acf(y, lags=lags, ax=acf_ax)\n",
    "        smt.graphics.plot_pacf(y, lags=lags, ax=pacf_ax)\n",
    "        plt.tight_layout()"
   ]
  },
  {
   "cell_type": "code",
   "execution_count": 544,
   "metadata": {},
   "outputs": [
    {
     "data": {
      "image/png": "[encoded data removed]",
      "text/plain": [
       "<Figure size 864x504 with 3 Axes>"
      ]
     },
     "metadata": {
      "needs_background": "light"
     },
     "output_type": "display_data"
    }
   ],
   "source": [
    "#residuals\n",
    "\n",
    "tsplot(best_model.resid[24+1:], lags=60)\n"
   ]
  },
  {
   "cell_type": "code",
   "execution_count": 527,
   "metadata": {},
   "outputs": [],
   "source": [
    "test_2 = final[(final['fisical_year'] >= 2017)& (final['week_start'] <= '2018-04-30')]\n",
    "arima_test_2 = test_2[['week_start','weekly_incidents']]\n",
    "arima_test_2= arima_test_2.set_index('week_start')"
   ]
  },
  {
   "cell_type": "code",
   "execution_count": 528,
   "metadata": {},
   "outputs": [],
   "source": [
    "y_test = arima_test_2.weekly_incidents"
   ]
  },
  {
   "cell_type": "code",
   "execution_count": 529,
   "metadata": {},
   "outputs": [
    {
     "data": {
      "text/plain": [
       "70"
      ]
     },
     "execution_count": 529,
     "metadata": {},
     "output_type": "execute_result"
    }
   ],
   "source": [
    "len(y_test)"
   ]
  },
  {
   "cell_type": "code",
   "execution_count": 687,
   "metadata": {},
   "outputs": [],
   "source": [
    "y_pred = best_model.predict(start = 365, end = 500 )"
   ]
  },
  {
   "cell_type": "code",
   "execution_count": 556,
   "metadata": {},
   "outputs": [],
   "source": [
    "df = pd.DataFrame({'Actual': y_test, 'Predicted': y_pred})\n",
    "df1 = df.tail(40)"
   ]
  },
  {
   "cell_type": "code",
   "execution_count": 557,
   "metadata": {},
   "outputs": [
    {
     "data": {
      "image/png": "[encoded data removed]",
      "text/plain": [
       "<Figure size 720x576 with 1 Axes>"
      ]
     },
     "metadata": {
      "needs_background": "light"
     },
     "output_type": "display_data"
    }
   ],
   "source": [
    "df1.plot(kind='bar',figsize=(10,8))\n",
    "plt.grid(which='major', linestyle='-', linewidth='0.5', color='green')\n",
    "plt.grid(which='minor', linestyle=':', linewidth='0.5', color='black')\n",
    "plt.show()"
   ]
  },
  {
   "cell_type": "code",
   "execution_count": 558,
   "metadata": {},
   "outputs": [
    {
     "name": "stdout",
     "output_type": "stream",
     "text": [
      "Mean Absolute Error: 207.10673347282645\n",
      "Mean Squared Error: 82355.77964940584\n",
      "Root Mean Squared Error: 286.976967106083\n",
      "R2 score:  -0.382125523543168\n"
     ]
    }
   ],
   "source": [
    "print('Mean Absolute Error:', metrics.mean_absolute_error(y_test, y_pred))  \n",
    "print('Mean Squared Error:', metrics.mean_squared_error(y_test, y_pred))  \n",
    "print('Root Mean Squared Error:', np.sqrt(metrics.mean_squared_error(y_test, y_pred)))\n",
    "print('R2 score: ', r2_score(y_test, y_pred))\n"
   ]
  },
  {
   "cell_type": "markdown",
   "metadata": {},
   "source": [
    "### Model Comparison"
   ]
  },
  {
   "cell_type": "markdown",
   "metadata": {},
   "source": [
    "XGBoost has the smallest RMSE in test set. We will do prediction using the best model."
   ]
  },
  {
   "cell_type": "code",
   "execution_count": 677,
   "metadata": {},
   "outputs": [],
   "source": [
    "#Retrain the XGBoost model using 2010-2017 data\n",
    "\n",
    "final_final = final[(final['fisical_year'] >= 2010)]\n",
    "x_final = final_final.drop(columns = ['weekly_incidents'])\n",
    "y_final = final_final.weekly_incidents\n"
   ]
  },
  {
   "cell_type": "code",
   "execution_count": 679,
   "metadata": {},
   "outputs": [],
   "source": [
    "xgb = XGBRegressor()\n",
    "xgb.fit(x_final, y_final)\n"
   ]
  },
  {
   "cell_type": "code",
   "execution_count": 573,
   "metadata": {},
   "outputs": [],
   "source": [
    "prediction = pd.date_range(start = '2018-05-07',end = '2018-12-31' , freq='W-MON')"
   ]
  },
  {
   "cell_type": "code",
   "execution_count": 688,
   "metadata": {},
   "outputs": [],
   "source": [
    "df_arima = pd.DataFrame({'Predicted': y_pred})\n"
   ]
  },
  {
   "cell_type": "code",
   "execution_count": 689,
   "metadata": {},
   "outputs": [
    {
     "data": {
      "image/png": "[encoded data removed]",
      "text/plain": [
       "<Figure size 432x288 with 1 Axes>"
      ]
     },
     "metadata": {
      "needs_background": "light"
     },
     "output_type": "display_data"
    },
    {
     "name": "stderr",
     "output_type": "stream",
     "text": [
      "Exception ignored in: <function DMatrix.__del__ at 0x1a2206c6a8>\n",
      "Traceback (most recent call last):\n",
      "  File \"/anaconda3/lib/python3.7/site-packages/xgboost/core.py\", line 482, in __del__\n",
      "    if self.handle is not None:\n",
      "AttributeError: 'DMatrix' object has no attribute 'handle'\n"
     ]
    }
   ],
   "source": [
    "# Normal line plot so that we can see data variation\n",
    "y_pred.plot.line()\n",
    "plt.show()"
   ]
  },
  {
   "cell_type": "code",
   "execution_count": null,
   "metadata": {},
   "outputs": [],
   "source": []
  }
 ],
 "metadata": {
  "kernelspec": {
   "display_name": "Python 3",
   "language": "python",
   "name": "python3"
  },
  "language_info": {
   "codemirror_mode": {
    "name": "ipython",
    "version": 3
   },
   "file_extension": ".py",
   "mimetype": "text/x-python",
   "name": "python",
   "nbconvert_exporter": "python",
   "pygments_lexer": "ipython3",
   "version": "3.7.1"
  }
 },
 "nbformat": 4,
 "nbformat_minor": 2
}
